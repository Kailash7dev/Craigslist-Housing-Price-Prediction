{
 "cells": [
  {
   "cell_type": "code",
   "execution_count": 1,
   "metadata": {},
   "outputs": [],
   "source": [
    "import requests\n",
    "import pandas as pd\n",
    "from bs4 import BeautifulSoup\n",
    "import re"
   ]
  },
  {
   "cell_type": "code",
   "execution_count": 2,
   "metadata": {},
   "outputs": [
    {
     "ename": "NameError",
     "evalue": "name 'area' is not defined",
     "output_type": "error",
     "traceback": [
      "\u001b[1;31m---------------------------------------------------------------------------\u001b[0m",
      "\u001b[1;31mNameError\u001b[0m                                 Traceback (most recent call last)",
      "\u001b[1;32m<timed exec>\u001b[0m in \u001b[0;36m<module>\u001b[1;34m\u001b[0m\n",
      "\u001b[1;31mNameError\u001b[0m: name 'area' is not defined"
     ]
    }
   ],
   "source": [
    "%%time\n",
    "\n",
    "#counter to check the number of house ads scraped\n",
    "house_no =0\n",
    "\n",
    "#dicitionary to store housing details\n",
    "house_details = {}\n",
    "\n",
    "#searching criteria\n",
    "regex = re.compile('[ft2]+')\n",
    "furn_search = re.compile('furnished')\n",
    "type_search = re.compile('apartment|condo|duplex|flat|house|townhouse|land')\n",
    "parking_search = re.compile('attached garage|detached garage|street parking|no parking')\n",
    "\n",
    "#original url\n",
    "url = 'https://vancouver.craigslist.org/d/real-estate/search/rea'\n",
    "\n",
    "#looping through each main page\n",
    "while True:\n",
    "    response = requests.get(url)\n",
    "    data = response.text\n",
    "    soup = BeautifulSoup(data, 'html.parser')\n",
    "    houses = soup.find_all('p', class_='result-info')\n",
    "    #looping through each ad in a page\n",
    "    for house in houses:\n",
    "        link = house.find('a', class_='result-title hdrlnk').get('href')\n",
    "        #print(link)\n",
    "        house_response = requests.get(link)\n",
    "        house_data = house_response.text\n",
    "        house_soup = BeautifulSoup(house_data, 'html.parser')\n",
    "        \n",
    "        #Getting the price\n",
    "        price_tag = house_soup.find('span', class_='price')\n",
    "        price = price_tag.text[1:] if price_tag else 'NA'\n",
    "        \n",
    "        #Getting area and bedroom\n",
    "        housing_tag = house_soup.find('span', class_='housing')\n",
    "\n",
    "        if housing_tag:\n",
    "            bedroom = housing_tag.text[2:3]\n",
    "            #print(len(housing_tag.text))\n",
    "            #print(housing_tag.text)\n",
    "\n",
    "            c = housing_tag.text.split('-')\n",
    "            for i in c:\n",
    "                i = i.strip()\n",
    "                #print(i)\n",
    "                ft = re.compile('[ft2]+')\n",
    "                start_post = re.compile('\\s')\n",
    "                if ft.search(i):\n",
    "                        #print(i)\n",
    "                        end= regex.search(i).span()[0]\n",
    "                        #print(regex.search(i).span())\n",
    "                        #print(end)\n",
    "                        if start_post.search(i):\n",
    "                            start = start_post.search(i).span()[1]\n",
    "                            #print(start_post.search(i).span())\n",
    "                        else:\n",
    "                            start =0\n",
    "                        #print(start)\n",
    "                        #print(i[start:end])\n",
    "                        area = i[start:end]\n",
    "\n",
    "            if area is None:\n",
    "                area = 'NA'\n",
    "        else:\n",
    "            area = 'NA'\n",
    "            bedroom ='NA'\n",
    "\n",
    "        #Getting title of the ad\n",
    "        title_tag = house_soup.find('span', id='titletextonly')\n",
    "        title = title_tag.text if title_tag else 'NA'\n",
    "        #print(title)\n",
    "        \n",
    "        #Getting the neighborhood\n",
    "        place_tag = house_soup.find('small')\n",
    "        place = place_tag.text[2:-1] if place_tag else 'NA'\n",
    "\n",
    "        #Getting the posted date time\n",
    "        post_datetime_tag = house_soup.find('time', class_='date timeago')\n",
    "        post_datetime = post_datetime_tag['datetime'] if post_datetime_tag else 'NA'\n",
    "\n",
    "        divs = house_soup.find('div',class_='mapAndAttrs')\n",
    "        #print(divs.text)\n",
    "        #checking if the estate is furnished or unfurnished\n",
    "\n",
    "        if (furn_search.search(divs.text) is not None):\n",
    "            finishing = 'furnished'\n",
    "        else:\n",
    "            finishing = 'unfurnished'\n",
    "\n",
    "        #checking the housing type\n",
    "        if (type_search.search(divs.text) is not None):\n",
    "            house_type = type_search.search(divs.text).group()\n",
    "        else:\n",
    "            house_type = 'NA'\n",
    "\n",
    "        #checking the parking type\n",
    "        if (parking_search.search(divs.text) is not None):\n",
    "            parking_type = parking_search.search(divs.text).group()\n",
    "        else:\n",
    "            parking_type = 'NA'\n",
    "\n",
    "        #checking number of bedroom and bathroom\n",
    "        data = divs.findNext('p').findNext('span')\n",
    "        #print(data)\n",
    "        if ((data.text is not None) and (data.text.find('/')>0)):\n",
    "            # if there is no value in the bedroom, then check this value\n",
    "            if bedroom is None:\n",
    "                bd = data.text.split('/')[0].strip() \n",
    "                #print(bd)\n",
    "                if (bd.find('BR')>0):\n",
    "                    bedroom = bd[:-2]\n",
    "                else:\n",
    "                    bedroom = 'NA'\n",
    "            #setting the number of bathroom value\n",
    "            if(data.text.split('/')[1].strip()):\n",
    "                bth = data.text.split('/')[1].strip()\n",
    "                #print(bth)\n",
    "                if (bth.find('Ba')>0):\n",
    "                    bathroom = bth[:-2]\n",
    "                else:\n",
    "                    bathroom = 'NA'\n",
    "\n",
    "        house_no+=1\n",
    "    \n",
    "        #Making an entry for each ad in a dictionary\n",
    "        house_details[house_no] = [price, bedroom, area, title, place, post_datetime, finishing, house_type, parking_type,\n",
    "                                   bathroom, link]\n",
    "     \n",
    "    #Getting the next page link in the original link\n",
    "    url_tag = soup.find('a', class_='button next')\n",
    "    if url_tag.get('href'):\n",
    "        url = 'https://vancouver.craigslist.org/d/real-estate/search/rea' + url_tag.get('href')\n",
    "        #print(url)\n",
    "    else:\n",
    "        # breaking from the loop in case there is no more link .ie in the last page\n",
    "        break\n",
    "    \n",
    "    #putting a counter to fetch only 1200\n",
    "    if(house_no==6800):\n",
    "        break\n",
    "\n",
    "#Building a data frame from the dictionary created, updated in the above loop\n",
    "house_df = pd.DataFrame.from_dict(house_details,orient='index', columns=['Price', 'Bedroom', 'Area', 'Title', 'Place', 'Post Timing',\n",
    "                                                                        'Finishing','House Type', 'Parking Type','Bathroom','Link'])"
   ]
  },
  {
   "cell_type": "code",
   "execution_count": 3,
   "metadata": {},
   "outputs": [
    {
     "ename": "NameError",
     "evalue": "name 'house_df' is not defined",
     "output_type": "error",
     "traceback": [
      "\u001b[1;31m---------------------------------------------------------------------------\u001b[0m",
      "\u001b[1;31mNameError\u001b[0m                                 Traceback (most recent call last)",
      "\u001b[1;32m<ipython-input-3-84bbf6cd415a>\u001b[0m in \u001b[0;36m<module>\u001b[1;34m\u001b[0m\n\u001b[1;32m----> 1\u001b[1;33m \u001b[0mhouse_df\u001b[0m\u001b[1;33m\u001b[0m\u001b[1;33m\u001b[0m\u001b[0m\n\u001b[0m",
      "\u001b[1;31mNameError\u001b[0m: name 'house_df' is not defined"
     ]
    }
   ],
   "source": [
    "house_df"
   ]
  },
  {
   "cell_type": "code",
   "execution_count": null,
   "metadata": {},
   "outputs": [],
   "source": [
    "#Saving the dataframe into csv file\n",
    "house_df.to_csv(\"Craiglist_HouseData2.csv\")"
   ]
  },
  {
   "cell_type": "code",
   "execution_count": null,
   "metadata": {},
   "outputs": [],
   "source": []
  },
  {
   "cell_type": "code",
   "execution_count": null,
   "metadata": {},
   "outputs": [],
   "source": []
  },
  {
   "cell_type": "code",
   "execution_count": null,
   "metadata": {},
   "outputs": [],
   "source": []
  },
  {
   "cell_type": "code",
   "execution_count": null,
   "metadata": {},
   "outputs": [],
   "source": []
  },
  {
   "cell_type": "code",
   "execution_count": null,
   "metadata": {},
   "outputs": [],
   "source": []
  },
  {
   "cell_type": "code",
   "execution_count": null,
   "metadata": {},
   "outputs": [],
   "source": []
  },
  {
   "cell_type": "code",
   "execution_count": null,
   "metadata": {},
   "outputs": [],
   "source": []
  },
  {
   "cell_type": "code",
   "execution_count": null,
   "metadata": {},
   "outputs": [],
   "source": []
  },
  {
   "cell_type": "code",
   "execution_count": null,
   "metadata": {},
   "outputs": [],
   "source": []
  },
  {
   "cell_type": "code",
   "execution_count": null,
   "metadata": {},
   "outputs": [],
   "source": []
  },
  {
   "cell_type": "code",
   "execution_count": null,
   "metadata": {},
   "outputs": [],
   "source": []
  },
  {
   "cell_type": "code",
   "execution_count": null,
   "metadata": {},
   "outputs": [],
   "source": []
  },
  {
   "cell_type": "code",
   "execution_count": null,
   "metadata": {},
   "outputs": [],
   "source": []
  },
  {
   "cell_type": "code",
   "execution_count": null,
   "metadata": {},
   "outputs": [],
   "source": []
  },
  {
   "cell_type": "code",
   "execution_count": null,
   "metadata": {},
   "outputs": [],
   "source": []
  },
  {
   "cell_type": "code",
   "execution_count": null,
   "metadata": {},
   "outputs": [],
   "source": []
  },
  {
   "cell_type": "code",
   "execution_count": null,
   "metadata": {},
   "outputs": [],
   "source": []
  },
  {
   "cell_type": "code",
   "execution_count": null,
   "metadata": {},
   "outputs": [],
   "source": []
  },
  {
   "cell_type": "code",
   "execution_count": null,
   "metadata": {},
   "outputs": [],
   "source": []
  },
  {
   "cell_type": "code",
   "execution_count": null,
   "metadata": {},
   "outputs": [],
   "source": []
  },
  {
   "cell_type": "code",
   "execution_count": null,
   "metadata": {},
   "outputs": [],
   "source": []
  },
  {
   "cell_type": "code",
   "execution_count": null,
   "metadata": {},
   "outputs": [],
   "source": []
  },
  {
   "cell_type": "code",
   "execution_count": null,
   "metadata": {},
   "outputs": [],
   "source": []
  },
  {
   "cell_type": "code",
   "execution_count": null,
   "metadata": {},
   "outputs": [],
   "source": []
  },
  {
   "cell_type": "code",
   "execution_count": null,
   "metadata": {},
   "outputs": [],
   "source": []
  },
  {
   "cell_type": "code",
   "execution_count": null,
   "metadata": {},
   "outputs": [],
   "source": []
  },
  {
   "cell_type": "code",
   "execution_count": null,
   "metadata": {},
   "outputs": [],
   "source": []
  },
  {
   "cell_type": "code",
   "execution_count": null,
   "metadata": {},
   "outputs": [],
   "source": []
  },
  {
   "cell_type": "code",
   "execution_count": null,
   "metadata": {},
   "outputs": [],
   "source": []
  }
 ],
 "metadata": {
  "kernelspec": {
   "display_name": "Python 3",
   "language": "python",
   "name": "python3"
  },
  "language_info": {
   "codemirror_mode": {
    "name": "ipython",
    "version": 3
   },
   "file_extension": ".py",
   "mimetype": "text/x-python",
   "name": "python",
   "nbconvert_exporter": "python",
   "pygments_lexer": "ipython3",
   "version": "3.7.4"
  }
 },
 "nbformat": 4,
 "nbformat_minor": 2
}

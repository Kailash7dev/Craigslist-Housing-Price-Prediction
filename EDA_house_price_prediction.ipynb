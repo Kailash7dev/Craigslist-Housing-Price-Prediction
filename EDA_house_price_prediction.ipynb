{
 "cells": [
  {
   "cell_type": "code",
   "execution_count": 725,
   "metadata": {},
   "outputs": [],
   "source": [
    "import numpy as np\n",
    "import pandas as pd\n",
    "import matplotlib.pyplot as plt\n",
    "import seaborn as sns\n",
    "from sklearn.model_selection import train_test_split\n",
    "from sklearn.ensemble import RandomForestRegressor\n",
    "from sklearn.model_selection import RandomizedSearchCV\n",
    "from sklearn import metrics\n",
    "import pickle\n",
    "import re\n",
    "import math"
   ]
  },
  {
   "cell_type": "code",
   "execution_count": 726,
   "metadata": {},
   "outputs": [],
   "source": [
    "pd.set_option('display.max_rows', 10)\n",
    "pd.set_option('display.float_format', lambda x: '%.3f' % x)"
   ]
  },
  {
   "cell_type": "code",
   "execution_count": 727,
   "metadata": {},
   "outputs": [
    {
     "data": {
      "text/html": [
       "<div>\n",
       "<style scoped>\n",
       "    .dataframe tbody tr th:only-of-type {\n",
       "        vertical-align: middle;\n",
       "    }\n",
       "\n",
       "    .dataframe tbody tr th {\n",
       "        vertical-align: top;\n",
       "    }\n",
       "\n",
       "    .dataframe thead th {\n",
       "        text-align: right;\n",
       "    }\n",
       "</style>\n",
       "<table border=\"1\" class=\"dataframe\">\n",
       "  <thead>\n",
       "    <tr style=\"text-align: right;\">\n",
       "      <th></th>\n",
       "      <th>Unnamed: 0</th>\n",
       "      <th>Price</th>\n",
       "      <th>Bedroom</th>\n",
       "      <th>Area</th>\n",
       "      <th>Title</th>\n",
       "      <th>Place</th>\n",
       "      <th>Post Timing</th>\n",
       "      <th>Finishing</th>\n",
       "      <th>House Type</th>\n",
       "      <th>Parking Type</th>\n",
       "      <th>Bathroom</th>\n",
       "      <th>Link</th>\n",
       "    </tr>\n",
       "  </thead>\n",
       "  <tbody>\n",
       "    <tr>\n",
       "      <th>0</th>\n",
       "      <td>1</td>\n",
       "      <td>2278000.000</td>\n",
       "      <td>8</td>\n",
       "      <td>6.000</td>\n",
       "      <td>Beautiful Tsawwassen Home For Sale Custom Buil...</td>\n",
       "      <td>Tsawwassen</td>\n",
       "      <td>2020-07-10T15:42:19-0700</td>\n",
       "      <td>unfurnished</td>\n",
       "      <td>house</td>\n",
       "      <td>attached garage</td>\n",
       "      <td>7</td>\n",
       "      <td>https://vancouver.craigslist.org/van/reb/d/del...</td>\n",
       "    </tr>\n",
       "    <tr>\n",
       "      <th>1</th>\n",
       "      <td>2</td>\n",
       "      <td>684900.000</td>\n",
       "      <td>NaN</td>\n",
       "      <td>nan</td>\n",
       "      <td>AMAZING Assignment Pre-Sale Unit at 567 Clarke...</td>\n",
       "      <td>Burquitlam</td>\n",
       "      <td>2020-07-03T15:44:48-0700</td>\n",
       "      <td>unfurnished</td>\n",
       "      <td>condo</td>\n",
       "      <td>NaN</td>\n",
       "      <td>7</td>\n",
       "      <td>https://vancouver.craigslist.org/bnc/reb/d/coq...</td>\n",
       "    </tr>\n",
       "    <tr>\n",
       "      <th>2</th>\n",
       "      <td>3</td>\n",
       "      <td>1098000.000</td>\n",
       "      <td>4</td>\n",
       "      <td>nan</td>\n",
       "      <td>Murrayville Basement Entry Home on Private 1/3...</td>\n",
       "      <td>(google map)\\n</td>\n",
       "      <td>2020-07-10T15:16:32-0700</td>\n",
       "      <td>unfurnished</td>\n",
       "      <td>house</td>\n",
       "      <td>NaN</td>\n",
       "      <td>3</td>\n",
       "      <td>https://vancouver.craigslist.org/rds/reb/d/lan...</td>\n",
       "    </tr>\n",
       "    <tr>\n",
       "      <th>3</th>\n",
       "      <td>4</td>\n",
       "      <td>1975000.000</td>\n",
       "      <td>4</td>\n",
       "      <td>4100.000</td>\n",
       "      <td>MAGNIFICENT OCEAN RESIDENCE Westcoast style</td>\n",
       "      <td>SOUTHERN GULF ISLANDS</td>\n",
       "      <td>2020-07-10T14:51:19-0700</td>\n",
       "      <td>unfurnished</td>\n",
       "      <td>house</td>\n",
       "      <td>attached garage</td>\n",
       "      <td>3</td>\n",
       "      <td>https://vancouver.craigslist.org/van/reo/d/pen...</td>\n",
       "    </tr>\n",
       "    <tr>\n",
       "      <th>4</th>\n",
       "      <td>5</td>\n",
       "      <td>1350000.000</td>\n",
       "      <td>5</td>\n",
       "      <td>11000.000</td>\n",
       "      <td>5 bedroom home with potential for subdivision ...</td>\n",
       "      <td>port coquitlam</td>\n",
       "      <td>2020-07-10T14:27:14-0700</td>\n",
       "      <td>unfurnished</td>\n",
       "      <td>house</td>\n",
       "      <td>NaN</td>\n",
       "      <td>4</td>\n",
       "      <td>https://vancouver.craigslist.org/pml/reo/d/por...</td>\n",
       "    </tr>\n",
       "  </tbody>\n",
       "</table>\n",
       "</div>"
      ],
      "text/plain": [
       "   Unnamed: 0       Price Bedroom      Area  \\\n",
       "0           1 2278000.000       8     6.000   \n",
       "1           2  684900.000     NaN       nan   \n",
       "2           3 1098000.000       4       nan   \n",
       "3           4 1975000.000       4  4100.000   \n",
       "4           5 1350000.000       5 11000.000   \n",
       "\n",
       "                                               Title  \\\n",
       "0  Beautiful Tsawwassen Home For Sale Custom Buil...   \n",
       "1  AMAZING Assignment Pre-Sale Unit at 567 Clarke...   \n",
       "2  Murrayville Basement Entry Home on Private 1/3...   \n",
       "3        MAGNIFICENT OCEAN RESIDENCE Westcoast style   \n",
       "4  5 bedroom home with potential for subdivision ...   \n",
       "\n",
       "                              Place               Post Timing    Finishing  \\\n",
       "0                        Tsawwassen  2020-07-10T15:42:19-0700  unfurnished   \n",
       "1                        Burquitlam  2020-07-03T15:44:48-0700  unfurnished   \n",
       "2             (google map)\\n         2020-07-10T15:16:32-0700  unfurnished   \n",
       "3             SOUTHERN GULF ISLANDS  2020-07-10T14:51:19-0700  unfurnished   \n",
       "4                    port coquitlam  2020-07-10T14:27:14-0700  unfurnished   \n",
       "\n",
       "  House Type     Parking Type Bathroom  \\\n",
       "0      house  attached garage        7   \n",
       "1      condo              NaN        7   \n",
       "2      house              NaN        3   \n",
       "3      house  attached garage        3   \n",
       "4      house              NaN        4   \n",
       "\n",
       "                                                Link  \n",
       "0  https://vancouver.craigslist.org/van/reb/d/del...  \n",
       "1  https://vancouver.craigslist.org/bnc/reb/d/coq...  \n",
       "2  https://vancouver.craigslist.org/rds/reb/d/lan...  \n",
       "3  https://vancouver.craigslist.org/van/reo/d/pen...  \n",
       "4  https://vancouver.craigslist.org/pml/reo/d/por...  "
      ]
     },
     "execution_count": 727,
     "metadata": {},
     "output_type": "execute_result"
    }
   ],
   "source": [
    "\n",
    "house_df = pd.read_csv(r'Craiglist_HouseData.csv')\n",
    "house_df.head()\n",
    "\n"
   ]
  },
  {
   "cell_type": "code",
   "execution_count": 728,
   "metadata": {},
   "outputs": [],
   "source": [
    "#drop Price with Null\n",
    "house_df.dropna(subset = [\"Price\"], inplace=True)\n",
    "house_df = house_df[house_df[\"Price\"]>1]\n",
    "house_df = house_df[house_df[\"House Type\"] !=\"land\"]\n",
    "# col_remove = [\"Title\", \"Place\", \"Post Timing\", \"Link\"]\n",
    "# house_df.drop(col_remove, axis= 1, inplace =True)\n",
    "house_df = house_df.loc[:, ~house_df.columns.str.match('Unnamed')]\n",
    "house_df.drop(house_df[house_df['Title'].str.contains(\"rent\")].index, inplace=True)\n",
    "house_df.drop(house_df[house_df['Title'].str.contains(\"Rent\")].index, inplace=True)\n",
    "house_df.drop_duplicates(subset = [\"Title\", \"Area\", \"Place\", \"Finishing\", \"Bedroom\",\"House Type\"], inplace=True) "
   ]
  },
  {
   "cell_type": "code",
   "execution_count": 729,
   "metadata": {},
   "outputs": [],
   "source": [
    "# remove land data\n",
    "house_df.drop(house_df[house_df['House Type']=='land'].index, inplace=True)\n",
    "land_index = house_df[((house_df['Title'].str.contains(\"Land\") | \n",
    "           house_df['Title'].str.contains(\"land\")) & (house_df[\"Bedroom\"].isnull()))].index\n",
    "house_df.drop(land_index, axis=0, inplace=True)"
   ]
  },
  {
   "cell_type": "code",
   "execution_count": 730,
   "metadata": {},
   "outputs": [],
   "source": [
    "# remove acre data\n",
    "land_index = house_df[((house_df['Title'].str.contains(\"acre\") | \n",
    "           house_df['Title'].str.contains(\"Acre\")) & (house_df[\"Bedroom\"].isnull()))].index\n",
    "house_df.drop(land_index, axis=0, inplace=True)"
   ]
  },
  {
   "cell_type": "code",
   "execution_count": 731,
   "metadata": {},
   "outputs": [],
   "source": [
    "# replace nan in House Type with others\n",
    "house_df[\"House Type\"].fillna(\"others\", inplace=True)"
   ]
  },
  {
   "cell_type": "code",
   "execution_count": 732,
   "metadata": {},
   "outputs": [],
   "source": [
    "# normalise the price\n",
    "house_df[\"Price\"] = np.log(house_df[\"Price\"])"
   ]
  },
  {
   "cell_type": "code",
   "execution_count": 733,
   "metadata": {},
   "outputs": [],
   "source": [
    "#bathroom null and replace values \n"
   ]
  },
  {
   "cell_type": "code",
   "execution_count": 734,
   "metadata": {},
   "outputs": [
    {
     "data": {
      "text/html": [
       "<div>\n",
       "<style scoped>\n",
       "    .dataframe tbody tr th:only-of-type {\n",
       "        vertical-align: middle;\n",
       "    }\n",
       "\n",
       "    .dataframe tbody tr th {\n",
       "        vertical-align: top;\n",
       "    }\n",
       "\n",
       "    .dataframe thead th {\n",
       "        text-align: right;\n",
       "    }\n",
       "</style>\n",
       "<table border=\"1\" class=\"dataframe\">\n",
       "  <thead>\n",
       "    <tr style=\"text-align: right;\">\n",
       "      <th></th>\n",
       "      <th>Price</th>\n",
       "      <th>Bedroom</th>\n",
       "      <th>Area</th>\n",
       "      <th>Title</th>\n",
       "      <th>Place</th>\n",
       "      <th>Post Timing</th>\n",
       "      <th>Finishing</th>\n",
       "      <th>House Type</th>\n",
       "      <th>Parking Type</th>\n",
       "      <th>Bathroom</th>\n",
       "      <th>Link</th>\n",
       "    </tr>\n",
       "  </thead>\n",
       "  <tbody>\n",
       "    <tr>\n",
       "      <th>0</th>\n",
       "      <td>14.639</td>\n",
       "      <td>8</td>\n",
       "      <td>6.000</td>\n",
       "      <td>Beautiful Tsawwassen Home For Sale Custom Buil...</td>\n",
       "      <td>Tsawwassen</td>\n",
       "      <td>2020-07-10T15:42:19-0700</td>\n",
       "      <td>unfurnished</td>\n",
       "      <td>house</td>\n",
       "      <td>attached garage</td>\n",
       "      <td>7</td>\n",
       "      <td>https://vancouver.craigslist.org/van/reb/d/del...</td>\n",
       "    </tr>\n",
       "    <tr>\n",
       "      <th>1</th>\n",
       "      <td>13.437</td>\n",
       "      <td>NaN</td>\n",
       "      <td>nan</td>\n",
       "      <td>AMAZING Assignment Pre-Sale Unit at 567 Clarke...</td>\n",
       "      <td>Burquitlam</td>\n",
       "      <td>2020-07-03T15:44:48-0700</td>\n",
       "      <td>unfurnished</td>\n",
       "      <td>condo</td>\n",
       "      <td>NaN</td>\n",
       "      <td>7</td>\n",
       "      <td>https://vancouver.craigslist.org/bnc/reb/d/coq...</td>\n",
       "    </tr>\n",
       "    <tr>\n",
       "      <th>2</th>\n",
       "      <td>13.909</td>\n",
       "      <td>4</td>\n",
       "      <td>nan</td>\n",
       "      <td>Murrayville Basement Entry Home on Private 1/3...</td>\n",
       "      <td>(google map)\\n</td>\n",
       "      <td>2020-07-10T15:16:32-0700</td>\n",
       "      <td>unfurnished</td>\n",
       "      <td>house</td>\n",
       "      <td>NaN</td>\n",
       "      <td>3</td>\n",
       "      <td>https://vancouver.craigslist.org/rds/reb/d/lan...</td>\n",
       "    </tr>\n",
       "    <tr>\n",
       "      <th>3</th>\n",
       "      <td>14.496</td>\n",
       "      <td>4</td>\n",
       "      <td>4100.000</td>\n",
       "      <td>MAGNIFICENT OCEAN RESIDENCE Westcoast style</td>\n",
       "      <td>SOUTHERN GULF ISLANDS</td>\n",
       "      <td>2020-07-10T14:51:19-0700</td>\n",
       "      <td>unfurnished</td>\n",
       "      <td>house</td>\n",
       "      <td>attached garage</td>\n",
       "      <td>3</td>\n",
       "      <td>https://vancouver.craigslist.org/van/reo/d/pen...</td>\n",
       "    </tr>\n",
       "    <tr>\n",
       "      <th>4</th>\n",
       "      <td>14.116</td>\n",
       "      <td>5</td>\n",
       "      <td>11000.000</td>\n",
       "      <td>5 bedroom home with potential for subdivision ...</td>\n",
       "      <td>port coquitlam</td>\n",
       "      <td>2020-07-10T14:27:14-0700</td>\n",
       "      <td>unfurnished</td>\n",
       "      <td>house</td>\n",
       "      <td>NaN</td>\n",
       "      <td>4</td>\n",
       "      <td>https://vancouver.craigslist.org/pml/reo/d/por...</td>\n",
       "    </tr>\n",
       "    <tr>\n",
       "      <th>...</th>\n",
       "      <td>...</td>\n",
       "      <td>...</td>\n",
       "      <td>...</td>\n",
       "      <td>...</td>\n",
       "      <td>...</td>\n",
       "      <td>...</td>\n",
       "      <td>...</td>\n",
       "      <td>...</td>\n",
       "      <td>...</td>\n",
       "      <td>...</td>\n",
       "      <td>...</td>\n",
       "    </tr>\n",
       "    <tr>\n",
       "      <th>2393</th>\n",
       "      <td>13.190</td>\n",
       "      <td>2</td>\n",
       "      <td>866.000</td>\n",
       "      <td>Resort style living in Burnaby</td>\n",
       "      <td>NaN</td>\n",
       "      <td>2020-05-02T14:12:11-0700</td>\n",
       "      <td>unfurnished</td>\n",
       "      <td>condo</td>\n",
       "      <td>NaN</td>\n",
       "      <td>2</td>\n",
       "      <td>https://vancouver.craigslist.org/van/reb/d/bur...</td>\n",
       "    </tr>\n",
       "    <tr>\n",
       "      <th>2394</th>\n",
       "      <td>13.161</td>\n",
       "      <td>2</td>\n",
       "      <td>nan</td>\n",
       "      <td>Top Floor Penthouse Unit w/views of MOUNTAINS</td>\n",
       "      <td>12460 191 St, Pitt Meadows</td>\n",
       "      <td>2020-05-31T04:40:23-0700</td>\n",
       "      <td>unfurnished</td>\n",
       "      <td>apartment</td>\n",
       "      <td>NaN</td>\n",
       "      <td>2</td>\n",
       "      <td>https://vancouver.craigslist.org/pml/reb/d/pit...</td>\n",
       "    </tr>\n",
       "    <tr>\n",
       "      <th>2396</th>\n",
       "      <td>12.873</td>\n",
       "      <td>1</td>\n",
       "      <td>554.000</td>\n",
       "      <td>Fraser Landmark Below Contract Price Pre-saleA...</td>\n",
       "      <td>13955 laurel drive</td>\n",
       "      <td>2020-05-30T22:26:20-0700</td>\n",
       "      <td>unfurnished</td>\n",
       "      <td>apartment</td>\n",
       "      <td>attached garage</td>\n",
       "      <td>1</td>\n",
       "      <td>https://vancouver.craigslist.org/rds/reo/d/sur...</td>\n",
       "    </tr>\n",
       "    <tr>\n",
       "      <th>2397</th>\n",
       "      <td>14.214</td>\n",
       "      <td>4</td>\n",
       "      <td>nan</td>\n",
       "      <td>Craftsman style home, 6900sf Accessory Bldg, W...</td>\n",
       "      <td>Armstrong, British Columbia</td>\n",
       "      <td>2020-05-30T22:23:06-0700</td>\n",
       "      <td>unfurnished</td>\n",
       "      <td>house</td>\n",
       "      <td>NaN</td>\n",
       "      <td>2.5</td>\n",
       "      <td>https://vancouver.craigslist.org/rds/reo/d/blu...</td>\n",
       "    </tr>\n",
       "    <tr>\n",
       "      <th>2398</th>\n",
       "      <td>14.062</td>\n",
       "      <td>6</td>\n",
       "      <td>3.000</td>\n",
       "      <td>►►Just Listed◄◄ Brand New 6 Bed + 5 Bath House...</td>\n",
       "      <td>Surrey, BC</td>\n",
       "      <td>2020-05-30T22:12:20-0700</td>\n",
       "      <td>unfurnished</td>\n",
       "      <td>house</td>\n",
       "      <td>detached garage</td>\n",
       "      <td>5</td>\n",
       "      <td>https://vancouver.craigslist.org/van/reo/d/sur...</td>\n",
       "    </tr>\n",
       "  </tbody>\n",
       "</table>\n",
       "<p>1757 rows × 11 columns</p>\n",
       "</div>"
      ],
      "text/plain": [
       "      Price Bedroom      Area  \\\n",
       "0    14.639       8     6.000   \n",
       "1    13.437     NaN       nan   \n",
       "2    13.909       4       nan   \n",
       "3    14.496       4  4100.000   \n",
       "4    14.116       5 11000.000   \n",
       "...     ...     ...       ...   \n",
       "2393 13.190       2   866.000   \n",
       "2394 13.161       2       nan   \n",
       "2396 12.873       1   554.000   \n",
       "2397 14.214       4       nan   \n",
       "2398 14.062       6     3.000   \n",
       "\n",
       "                                                  Title  \\\n",
       "0     Beautiful Tsawwassen Home For Sale Custom Buil...   \n",
       "1     AMAZING Assignment Pre-Sale Unit at 567 Clarke...   \n",
       "2     Murrayville Basement Entry Home on Private 1/3...   \n",
       "3           MAGNIFICENT OCEAN RESIDENCE Westcoast style   \n",
       "4     5 bedroom home with potential for subdivision ...   \n",
       "...                                                 ...   \n",
       "2393                     Resort style living in Burnaby   \n",
       "2394      Top Floor Penthouse Unit w/views of MOUNTAINS   \n",
       "2396  Fraser Landmark Below Contract Price Pre-saleA...   \n",
       "2397  Craftsman style home, 6900sf Accessory Bldg, W...   \n",
       "2398  ►►Just Listed◄◄ Brand New 6 Bed + 5 Bath House...   \n",
       "\n",
       "                                 Place               Post Timing    Finishing  \\\n",
       "0                           Tsawwassen  2020-07-10T15:42:19-0700  unfurnished   \n",
       "1                           Burquitlam  2020-07-03T15:44:48-0700  unfurnished   \n",
       "2                (google map)\\n         2020-07-10T15:16:32-0700  unfurnished   \n",
       "3                SOUTHERN GULF ISLANDS  2020-07-10T14:51:19-0700  unfurnished   \n",
       "4                       port coquitlam  2020-07-10T14:27:14-0700  unfurnished   \n",
       "...                                ...                       ...          ...   \n",
       "2393                               NaN  2020-05-02T14:12:11-0700  unfurnished   \n",
       "2394        12460 191 St, Pitt Meadows  2020-05-31T04:40:23-0700  unfurnished   \n",
       "2396                13955 laurel drive  2020-05-30T22:26:20-0700  unfurnished   \n",
       "2397       Armstrong, British Columbia  2020-05-30T22:23:06-0700  unfurnished   \n",
       "2398                        Surrey, BC  2020-05-30T22:12:20-0700  unfurnished   \n",
       "\n",
       "     House Type     Parking Type Bathroom  \\\n",
       "0         house  attached garage        7   \n",
       "1         condo              NaN        7   \n",
       "2         house              NaN        3   \n",
       "3         house  attached garage        3   \n",
       "4         house              NaN        4   \n",
       "...         ...              ...      ...   \n",
       "2393      condo              NaN        2   \n",
       "2394  apartment              NaN        2   \n",
       "2396  apartment  attached garage        1   \n",
       "2397      house              NaN      2.5   \n",
       "2398      house  detached garage        5   \n",
       "\n",
       "                                                   Link  \n",
       "0     https://vancouver.craigslist.org/van/reb/d/del...  \n",
       "1     https://vancouver.craigslist.org/bnc/reb/d/coq...  \n",
       "2     https://vancouver.craigslist.org/rds/reb/d/lan...  \n",
       "3     https://vancouver.craigslist.org/van/reo/d/pen...  \n",
       "4     https://vancouver.craigslist.org/pml/reo/d/por...  \n",
       "...                                                 ...  \n",
       "2393  https://vancouver.craigslist.org/van/reb/d/bur...  \n",
       "2394  https://vancouver.craigslist.org/pml/reb/d/pit...  \n",
       "2396  https://vancouver.craigslist.org/rds/reo/d/sur...  \n",
       "2397  https://vancouver.craigslist.org/rds/reo/d/blu...  \n",
       "2398  https://vancouver.craigslist.org/van/reo/d/sur...  \n",
       "\n",
       "[1757 rows x 11 columns]"
      ]
     },
     "execution_count": 734,
     "metadata": {},
     "output_type": "execute_result"
    }
   ],
   "source": [
    "house_df"
   ]
  },
  {
   "cell_type": "code",
   "execution_count": 735,
   "metadata": {},
   "outputs": [
    {
     "data": {
      "text/html": [
       "<div>\n",
       "<style scoped>\n",
       "    .dataframe tbody tr th:only-of-type {\n",
       "        vertical-align: middle;\n",
       "    }\n",
       "\n",
       "    .dataframe tbody tr th {\n",
       "        vertical-align: top;\n",
       "    }\n",
       "\n",
       "    .dataframe thead th {\n",
       "        text-align: right;\n",
       "    }\n",
       "</style>\n",
       "<table border=\"1\" class=\"dataframe\">\n",
       "  <thead>\n",
       "    <tr style=\"text-align: right;\">\n",
       "      <th></th>\n",
       "      <th>Price</th>\n",
       "      <th>Area</th>\n",
       "    </tr>\n",
       "  </thead>\n",
       "  <tbody>\n",
       "    <tr>\n",
       "      <th>count</th>\n",
       "      <td>1757.000</td>\n",
       "      <td>1348.000</td>\n",
       "    </tr>\n",
       "    <tr>\n",
       "      <th>mean</th>\n",
       "      <td>13.323</td>\n",
       "      <td>2250.960</td>\n",
       "    </tr>\n",
       "    <tr>\n",
       "      <th>std</th>\n",
       "      <td>1.451</td>\n",
       "      <td>18664.692</td>\n",
       "    </tr>\n",
       "    <tr>\n",
       "      <th>min</th>\n",
       "      <td>0.693</td>\n",
       "      <td>0.000</td>\n",
       "    </tr>\n",
       "    <tr>\n",
       "      <th>25%</th>\n",
       "      <td>13.120</td>\n",
       "      <td>363.000</td>\n",
       "    </tr>\n",
       "    <tr>\n",
       "      <th>50%</th>\n",
       "      <td>13.521</td>\n",
       "      <td>895.500</td>\n",
       "    </tr>\n",
       "    <tr>\n",
       "      <th>75%</th>\n",
       "      <td>13.996</td>\n",
       "      <td>1536.250</td>\n",
       "    </tr>\n",
       "    <tr>\n",
       "      <th>max</th>\n",
       "      <td>19.844</td>\n",
       "      <td>549000.000</td>\n",
       "    </tr>\n",
       "  </tbody>\n",
       "</table>\n",
       "</div>"
      ],
      "text/plain": [
       "         Price       Area\n",
       "count 1757.000   1348.000\n",
       "mean    13.323   2250.960\n",
       "std      1.451  18664.692\n",
       "min      0.693      0.000\n",
       "25%     13.120    363.000\n",
       "50%     13.521    895.500\n",
       "75%     13.996   1536.250\n",
       "max     19.844 549000.000"
      ]
     },
     "execution_count": 735,
     "metadata": {},
     "output_type": "execute_result"
    }
   ],
   "source": [
    "house_df.describe()"
   ]
  },
  {
   "cell_type": "code",
   "execution_count": 736,
   "metadata": {},
   "outputs": [
    {
     "name": "stdout",
     "output_type": "stream",
     "text": [
      "Bedroom unique values - ['8' nan '4' '5' '1' '6' '2' '3' '7' '9' '0'] \n",
      "\n",
      "Bathroom unique values - ['7' '3' '4' '1' '2' '2.5' '5' '1.5' '3.5' '5.5' '0' '6' '4.5' '8' '6.5'\n",
      " 'shared' '9+' nan '7.5' 'split' '8.5'] \n",
      "\n",
      "House Type - ['house' 'condo' 'apartment' 'townhouse' 'duplex' 'others'] \n",
      "\n"
     ]
    }
   ],
   "source": [
    "print('Bedroom unique values -', house_df['Bedroom'].unique(),'\\n')\n",
    "print('Bathroom unique values -', house_df['Bathroom'].unique(),'\\n')\n",
    "print('House Type -', house_df['House Type'].unique(),'\\n')"
   ]
  },
  {
   "cell_type": "markdown",
   "metadata": {},
   "source": [
    "### Bathroom"
   ]
  },
  {
   "cell_type": "code",
   "execution_count": 737,
   "metadata": {},
   "outputs": [
    {
     "name": "stderr",
     "output_type": "stream",
     "text": [
      "D:\\ProgramFiles\\AnacondaDistribution\\lib\\site-packages\\pandas\\core\\indexing.py:671: SettingWithCopyWarning: \n",
      "A value is trying to be set on a copy of a slice from a DataFrame\n",
      "\n",
      "See the caveats in the documentation: https://pandas.pydata.org/pandas-docs/stable/user_guide/indexing.html#returning-a-view-versus-a-copy\n",
      "  self._setitem_with_indexer(indexer, value)\n"
     ]
    }
   ],
   "source": [
    "#bathroom fillna with groupby(House Type)\n",
    "house_df['Bathroom'].loc[((house_df['Bathroom']== \"9+\") \n",
    "                         |(house_df['Bathroom']== \"shared\")\n",
    "                        |(house_df['Bathroom']== \"split\")\n",
    "                         |(house_df['Bathroom']==\"0\"))] = np.nan\n",
    "house_df['Bathroom'] = pd.to_numeric(house_df['Bathroom'], downcast='integer')\n",
    "house_df['Bathroom'].loc[house_df['Bathroom']> 4] = np.nan"
   ]
  },
  {
   "cell_type": "code",
   "execution_count": 738,
   "metadata": {},
   "outputs": [
    {
     "data": {
      "text/plain": [
       "House Type\n",
       "apartment         2.000\n",
       "condo             2.000\n",
       "duplex       [2.0, 4.0]\n",
       "house             3.000\n",
       "others            1.000\n",
       "townhouse         3.000\n",
       "Name: Bathroom, dtype: object"
      ]
     },
     "execution_count": 738,
     "metadata": {},
     "output_type": "execute_result"
    }
   ],
   "source": [
    "house_df.groupby(['House Type'])['Bathroom'].agg(pd.Series.mode)"
   ]
  },
  {
   "cell_type": "code",
   "execution_count": 739,
   "metadata": {},
   "outputs": [],
   "source": [
    "house_df['Bathroom'].loc[((house_df['House Type'] == \"apartment\") |\n",
    "              (house_df['House Type'] == \"condo\")|\n",
    "              (house_df['House Type'] == \"duplex\")|\n",
    "              (house_df['House Type'] == \"house\"))& (house_df['Bathroom'].isnull())] = 2\n",
    "house_df['Bathroom'].loc[((house_df['House Type'] == \"townhouse\"))& (house_df['Bathroom'].isnull())] = 3\n",
    "house_df['Bathroom'].loc[((house_df['House Type'] == \"others\"))& (house_df['Bathroom'].isnull())] = 1"
   ]
  },
  {
   "cell_type": "code",
   "execution_count": 740,
   "metadata": {},
   "outputs": [
    {
     "data": {
      "text/plain": [
       "array([2. , 3. , 4. , 1. , 2.5, 1.5, 3.5])"
      ]
     },
     "execution_count": 740,
     "metadata": {},
     "output_type": "execute_result"
    }
   ],
   "source": [
    "house_df['Bathroom'].unique()"
   ]
  },
  {
   "cell_type": "code",
   "execution_count": 741,
   "metadata": {},
   "outputs": [
    {
     "data": {
      "text/plain": [
       "Bathroom\n",
       "1.000    418\n",
       "1.500     52\n",
       "2.000    748\n",
       "2.500     89\n",
       "3.000    278\n",
       "3.500     47\n",
       "4.000    125\n",
       "Name: (Price, count), dtype: int64"
      ]
     },
     "execution_count": 741,
     "metadata": {},
     "output_type": "execute_result"
    }
   ],
   "source": [
    "house_df.groupby(\"Bathroom\").agg([ 'count']).iloc[:,0]"
   ]
  },
  {
   "cell_type": "code",
   "execution_count": 742,
   "metadata": {},
   "outputs": [],
   "source": [
    "house_df[\"Bathroom\"].loc[house_df[\"Bathroom\"]>3] = \"More than 3\""
   ]
  },
  {
   "cell_type": "code",
   "execution_count": 743,
   "metadata": {},
   "outputs": [
    {
     "data": {
      "text/plain": [
       "Bathroom\n",
       "1.0            418\n",
       "1.5             52\n",
       "2.0            748\n",
       "2.5             89\n",
       "3.0            278\n",
       "More than 3    172\n",
       "Name: (Price, count), dtype: int64"
      ]
     },
     "execution_count": 743,
     "metadata": {},
     "output_type": "execute_result"
    }
   ],
   "source": [
    "house_df.groupby(\"Bathroom\").agg([ 'count']).iloc[:,0]"
   ]
  },
  {
   "cell_type": "markdown",
   "metadata": {},
   "source": [
    "#### Parking"
   ]
  },
  {
   "cell_type": "code",
   "execution_count": 744,
   "metadata": {},
   "outputs": [
    {
     "data": {
      "text/plain": [
       "House Type  Parking Type   \n",
       "apartment   attached garage    204\n",
       "            detached garage     12\n",
       "            no parking           7\n",
       "            street parking      32\n",
       "condo       attached garage    105\n",
       "                              ... \n",
       "others      no parking           1\n",
       "            street parking      17\n",
       "townhouse   attached garage    109\n",
       "            detached garage     11\n",
       "            street parking       3\n",
       "Name: Price, Length: 22, dtype: int64"
      ]
     },
     "execution_count": 744,
     "metadata": {},
     "output_type": "execute_result"
    }
   ],
   "source": [
    "house_df[house_df['Parking Type'].notnull()].groupby(['House Type','Parking Type']).agg('count').iloc[:,0]"
   ]
  },
  {
   "cell_type": "code",
   "execution_count": 745,
   "metadata": {},
   "outputs": [],
   "source": [
    "house_df['Parking Type'].fillna('attached garage', inplace=True)"
   ]
  },
  {
   "cell_type": "code",
   "execution_count": 746,
   "metadata": {},
   "outputs": [
    {
     "data": {
      "text/plain": [
       "0"
      ]
     },
     "execution_count": 746,
     "metadata": {},
     "output_type": "execute_result"
    }
   ],
   "source": [
    "house_df['Parking Type'].isnull().sum()"
   ]
  },
  {
   "cell_type": "markdown",
   "metadata": {},
   "source": [
    "### Finishing"
   ]
  },
  {
   "cell_type": "code",
   "execution_count": 747,
   "metadata": {},
   "outputs": [],
   "source": [
    "house_df.rename({'Finishing': 'isFurnished'}, axis=1, inplace=True)  "
   ]
  },
  {
   "cell_type": "code",
   "execution_count": 748,
   "metadata": {},
   "outputs": [
    {
     "data": {
      "text/plain": [
       "array(['unfurnished', 'furnished'], dtype=object)"
      ]
     },
     "execution_count": 748,
     "metadata": {},
     "output_type": "execute_result"
    }
   ],
   "source": [
    "house_df[\"isFurnished\"].unique()"
   ]
  },
  {
   "cell_type": "code",
   "execution_count": 749,
   "metadata": {},
   "outputs": [
    {
     "data": {
      "text/plain": [
       "0       0\n",
       "1       0\n",
       "2       0\n",
       "3       0\n",
       "4       0\n",
       "       ..\n",
       "2393    0\n",
       "2394    0\n",
       "2396    0\n",
       "2397    0\n",
       "2398    0\n",
       "Name: isFurnished, Length: 1757, dtype: int64"
      ]
     },
     "execution_count": 749,
     "metadata": {},
     "output_type": "execute_result"
    }
   ],
   "source": [
    "house_df[\"isFurnished\"].replace({'unfurnished':0, 'furnished':1})"
   ]
  },
  {
   "cell_type": "markdown",
   "metadata": {},
   "source": [
    "### Area"
   ]
  },
  {
   "cell_type": "code",
   "execution_count": 750,
   "metadata": {},
   "outputs": [],
   "source": [
    "house_df['Area'].fillna(house_df.groupby(['House Type', 'Bathroom'])['Area'].transform('mean'), inplace=True)"
   ]
  },
  {
   "cell_type": "code",
   "execution_count": 751,
   "metadata": {},
   "outputs": [],
   "source": [
    "house_df.drop(house_df[house_df.Area.isnull()].index,inplace=True)"
   ]
  },
  {
   "cell_type": "code",
   "execution_count": 752,
   "metadata": {},
   "outputs": [
    {
     "data": {
      "text/plain": [
       "0"
      ]
     },
     "execution_count": 752,
     "metadata": {},
     "output_type": "execute_result"
    }
   ],
   "source": [
    "house_df[\"Area\"].isnull().sum()"
   ]
  },
  {
   "cell_type": "markdown",
   "metadata": {},
   "source": [
    "### Bedroom"
   ]
  },
  {
   "cell_type": "code",
   "execution_count": 753,
   "metadata": {},
   "outputs": [
    {
     "data": {
      "text/plain": [
       "House Type\n",
       "apartment    2\n",
       "condo        2\n",
       "duplex       3\n",
       "house        4\n",
       "others       2\n",
       "townhouse    3\n",
       "Name: Bedroom, dtype: object"
      ]
     },
     "execution_count": 753,
     "metadata": {},
     "output_type": "execute_result"
    }
   ],
   "source": [
    "house_df.groupby(['House Type'])['Bedroom'].agg(pd.Series.mode)"
   ]
  },
  {
   "cell_type": "code",
   "execution_count": 754,
   "metadata": {},
   "outputs": [],
   "source": [
    "house_df['Bedroom'].loc[((house_df['House Type'] == \"apartment\") |\n",
    "              (house_df['House Type'] == \"condo\")|\n",
    "              (house_df['House Type'] == \"others\"))& (house_df['Bedroom'].isnull())] = 2\n",
    "house_df['Bedroom'].loc[((house_df['House Type'] == \"duplex\")|\n",
    "                        (house_df['House Type'] == \"townhouse\"))& (house_df['Bedroom'].isnull())] = 3\n",
    "house_df['Bedroom'].loc[((house_df['House Type'] == \"house\"))& (house_df['Bedroom'].isnull())] = 4"
   ]
  },
  {
   "cell_type": "code",
   "execution_count": 755,
   "metadata": {},
   "outputs": [],
   "source": [
    "house_df['Bedroom'] = pd.to_numeric(house_df[\"Bedroom\"])\n",
    "house_df['Bedroom'].loc[house_df[house_df['Bedroom']>5].index] = \"More than 5\""
   ]
  },
  {
   "cell_type": "code",
   "execution_count": 756,
   "metadata": {},
   "outputs": [
    {
     "data": {
      "text/plain": [
       "0"
      ]
     },
     "execution_count": 756,
     "metadata": {},
     "output_type": "execute_result"
    }
   ],
   "source": [
    "house_df['Bedroom'].isnull().sum()"
   ]
  },
  {
   "cell_type": "markdown",
   "metadata": {},
   "source": [
    "#### outliers"
   ]
  },
  {
   "cell_type": "code",
   "execution_count": 757,
   "metadata": {},
   "outputs": [],
   "source": [
    "def reject_outliers(sr, iq_range=0.5):\n",
    "    pcnt = (1 - iq_range) / 2\n",
    "    qlow, median, qhigh = sr.dropna().quantile([pcnt, 0.50, 1-pcnt])\n",
    "    iqr = qhigh - qlow\n",
    "    return sr[ (sr - median).abs() <= iqr]"
   ]
  },
  {
   "cell_type": "code",
   "execution_count": 758,
   "metadata": {},
   "outputs": [],
   "source": [
    "house_df = house_df.loc[reject_outliers(house_df[\"Price\"]).index]"
   ]
  },
  {
   "cell_type": "code",
   "execution_count": 759,
   "metadata": {},
   "outputs": [],
   "source": [
    "house_df = house_df.loc[reject_outliers(house_df[\"Area\"]).index]"
   ]
  },
  {
   "cell_type": "code",
   "execution_count": 760,
   "metadata": {},
   "outputs": [
    {
     "data": {
      "image/png": "[encoded data removed]",
      "text/plain": [
       "<Figure size 432x288 with 1 Axes>"
      ]
     },
     "metadata": {
      "needs_background": "light"
     },
     "output_type": "display_data"
    }
   ],
   "source": [
    "ax = sns.distplot(house_df['Price'])"
   ]
  },
  {
   "cell_type": "code",
   "execution_count": 761,
   "metadata": {},
   "outputs": [],
   "source": [
    "col_remove = [\"Title\", \"Place\", \"Post Timing\", \"Link\"]\n",
    "house_df.drop(col_remove, axis= 1, inplace =True)"
   ]
  },
  {
   "cell_type": "code",
   "execution_count": 762,
   "metadata": {},
   "outputs": [
    {
     "data": {
      "text/html": [
       "<div>\n",
       "<style scoped>\n",
       "    .dataframe tbody tr th:only-of-type {\n",
       "        vertical-align: middle;\n",
       "    }\n",
       "\n",
       "    .dataframe tbody tr th {\n",
       "        vertical-align: top;\n",
       "    }\n",
       "\n",
       "    .dataframe thead th {\n",
       "        text-align: right;\n",
       "    }\n",
       "</style>\n",
       "<table border=\"1\" class=\"dataframe\">\n",
       "  <thead>\n",
       "    <tr style=\"text-align: right;\">\n",
       "      <th></th>\n",
       "      <th>Price</th>\n",
       "      <th>Bedroom</th>\n",
       "      <th>Area</th>\n",
       "      <th>isFurnished</th>\n",
       "      <th>House Type</th>\n",
       "      <th>Parking Type</th>\n",
       "      <th>Bathroom</th>\n",
       "    </tr>\n",
       "  </thead>\n",
       "  <tbody>\n",
       "    <tr>\n",
       "      <th>1</th>\n",
       "      <td>13.437</td>\n",
       "      <td>2</td>\n",
       "      <td>734.400</td>\n",
       "      <td>unfurnished</td>\n",
       "      <td>condo</td>\n",
       "      <td>attached garage</td>\n",
       "      <td>2.000</td>\n",
       "    </tr>\n",
       "    <tr>\n",
       "      <th>5</th>\n",
       "      <td>13.056</td>\n",
       "      <td>1</td>\n",
       "      <td>530.000</td>\n",
       "      <td>unfurnished</td>\n",
       "      <td>apartment</td>\n",
       "      <td>attached garage</td>\n",
       "      <td>1.000</td>\n",
       "    </tr>\n",
       "    <tr>\n",
       "      <th>6</th>\n",
       "      <td>13.617</td>\n",
       "      <td>1</td>\n",
       "      <td>1300.000</td>\n",
       "      <td>unfurnished</td>\n",
       "      <td>townhouse</td>\n",
       "      <td>attached garage</td>\n",
       "      <td>1.000</td>\n",
       "    </tr>\n",
       "    <tr>\n",
       "      <th>7</th>\n",
       "      <td>13.452</td>\n",
       "      <td>More than 5</td>\n",
       "      <td>679.000</td>\n",
       "      <td>unfurnished</td>\n",
       "      <td>apartment</td>\n",
       "      <td>attached garage</td>\n",
       "      <td>1.000</td>\n",
       "    </tr>\n",
       "    <tr>\n",
       "      <th>8</th>\n",
       "      <td>14.220</td>\n",
       "      <td>2</td>\n",
       "      <td>186.000</td>\n",
       "      <td>unfurnished</td>\n",
       "      <td>condo</td>\n",
       "      <td>attached garage</td>\n",
       "      <td>2.000</td>\n",
       "    </tr>\n",
       "  </tbody>\n",
       "</table>\n",
       "</div>"
      ],
      "text/plain": [
       "   Price      Bedroom     Area  isFurnished House Type     Parking Type  \\\n",
       "1 13.437            2  734.400  unfurnished      condo  attached garage   \n",
       "5 13.056            1  530.000  unfurnished  apartment  attached garage   \n",
       "6 13.617            1 1300.000  unfurnished  townhouse  attached garage   \n",
       "7 13.452  More than 5  679.000  unfurnished  apartment  attached garage   \n",
       "8 14.220            2  186.000  unfurnished      condo  attached garage   \n",
       "\n",
       "  Bathroom  \n",
       "1    2.000  \n",
       "5    1.000  \n",
       "6    1.000  \n",
       "7    1.000  \n",
       "8    2.000  "
      ]
     },
     "execution_count": 762,
     "metadata": {},
     "output_type": "execute_result"
    }
   ],
   "source": [
    "house_df.head()"
   ]
  },
  {
   "cell_type": "code",
   "execution_count": 763,
   "metadata": {},
   "outputs": [
    {
     "data": {
      "text/plain": [
       "(1101, 7)"
      ]
     },
     "execution_count": 763,
     "metadata": {},
     "output_type": "execute_result"
    }
   ],
   "source": [
    "house_df.shape"
   ]
  },
  {
   "cell_type": "code",
   "execution_count": 764,
   "metadata": {},
   "outputs": [],
   "source": [
    "# house_df[\"reverseLog\"] = Z =  np.exp(house_df[\"logPrice\"])"
   ]
  },
  {
   "cell_type": "code",
   "execution_count": 766,
   "metadata": {},
   "outputs": [
    {
     "data": {
      "text/plain": [
       "array([2.0, 1.0, 1.5, 3.0, 2.5, 'More than 3'], dtype=object)"
      ]
     },
     "execution_count": 766,
     "metadata": {},
     "output_type": "execute_result"
    }
   ],
   "source": [
    "house_df[\"Bathroom\"].unique()"
   ]
  },
  {
   "cell_type": "code",
   "execution_count": 769,
   "metadata": {},
   "outputs": [],
   "source": [
    "final_df = pd.get_dummies(house_df, drop_first=True)"
   ]
  },
  {
   "cell_type": "code",
   "execution_count": 770,
   "metadata": {},
   "outputs": [
    {
     "data": {
      "text/html": [
       "<div>\n",
       "<style scoped>\n",
       "    .dataframe tbody tr th:only-of-type {\n",
       "        vertical-align: middle;\n",
       "    }\n",
       "\n",
       "    .dataframe tbody tr th {\n",
       "        vertical-align: top;\n",
       "    }\n",
       "\n",
       "    .dataframe thead th {\n",
       "        text-align: right;\n",
       "    }\n",
       "</style>\n",
       "<table border=\"1\" class=\"dataframe\">\n",
       "  <thead>\n",
       "    <tr style=\"text-align: right;\">\n",
       "      <th></th>\n",
       "      <th>Price</th>\n",
       "      <th>Area</th>\n",
       "      <th>Bedroom_1</th>\n",
       "      <th>Bedroom_2</th>\n",
       "      <th>Bedroom_3</th>\n",
       "      <th>Bedroom_4</th>\n",
       "      <th>Bedroom_5</th>\n",
       "      <th>Bedroom_More than 5</th>\n",
       "      <th>isFurnished_unfurnished</th>\n",
       "      <th>House Type_condo</th>\n",
       "      <th>...</th>\n",
       "      <th>House Type_others</th>\n",
       "      <th>House Type_townhouse</th>\n",
       "      <th>Parking Type_detached garage</th>\n",
       "      <th>Parking Type_no parking</th>\n",
       "      <th>Parking Type_street parking</th>\n",
       "      <th>Bathroom_1.5</th>\n",
       "      <th>Bathroom_2.0</th>\n",
       "      <th>Bathroom_2.5</th>\n",
       "      <th>Bathroom_3.0</th>\n",
       "      <th>Bathroom_More than 3</th>\n",
       "    </tr>\n",
       "  </thead>\n",
       "  <tbody>\n",
       "    <tr>\n",
       "      <th>1</th>\n",
       "      <td>13.437</td>\n",
       "      <td>734.400</td>\n",
       "      <td>0</td>\n",
       "      <td>1</td>\n",
       "      <td>0</td>\n",
       "      <td>0</td>\n",
       "      <td>0</td>\n",
       "      <td>0</td>\n",
       "      <td>1</td>\n",
       "      <td>1</td>\n",
       "      <td>...</td>\n",
       "      <td>0</td>\n",
       "      <td>0</td>\n",
       "      <td>0</td>\n",
       "      <td>0</td>\n",
       "      <td>0</td>\n",
       "      <td>0</td>\n",
       "      <td>1</td>\n",
       "      <td>0</td>\n",
       "      <td>0</td>\n",
       "      <td>0</td>\n",
       "    </tr>\n",
       "    <tr>\n",
       "      <th>5</th>\n",
       "      <td>13.056</td>\n",
       "      <td>530.000</td>\n",
       "      <td>1</td>\n",
       "      <td>0</td>\n",
       "      <td>0</td>\n",
       "      <td>0</td>\n",
       "      <td>0</td>\n",
       "      <td>0</td>\n",
       "      <td>1</td>\n",
       "      <td>0</td>\n",
       "      <td>...</td>\n",
       "      <td>0</td>\n",
       "      <td>0</td>\n",
       "      <td>0</td>\n",
       "      <td>0</td>\n",
       "      <td>0</td>\n",
       "      <td>0</td>\n",
       "      <td>0</td>\n",
       "      <td>0</td>\n",
       "      <td>0</td>\n",
       "      <td>0</td>\n",
       "    </tr>\n",
       "    <tr>\n",
       "      <th>6</th>\n",
       "      <td>13.617</td>\n",
       "      <td>1300.000</td>\n",
       "      <td>1</td>\n",
       "      <td>0</td>\n",
       "      <td>0</td>\n",
       "      <td>0</td>\n",
       "      <td>0</td>\n",
       "      <td>0</td>\n",
       "      <td>1</td>\n",
       "      <td>0</td>\n",
       "      <td>...</td>\n",
       "      <td>0</td>\n",
       "      <td>1</td>\n",
       "      <td>0</td>\n",
       "      <td>0</td>\n",
       "      <td>0</td>\n",
       "      <td>0</td>\n",
       "      <td>0</td>\n",
       "      <td>0</td>\n",
       "      <td>0</td>\n",
       "      <td>0</td>\n",
       "    </tr>\n",
       "    <tr>\n",
       "      <th>7</th>\n",
       "      <td>13.452</td>\n",
       "      <td>679.000</td>\n",
       "      <td>0</td>\n",
       "      <td>0</td>\n",
       "      <td>0</td>\n",
       "      <td>0</td>\n",
       "      <td>0</td>\n",
       "      <td>1</td>\n",
       "      <td>1</td>\n",
       "      <td>0</td>\n",
       "      <td>...</td>\n",
       "      <td>0</td>\n",
       "      <td>0</td>\n",
       "      <td>0</td>\n",
       "      <td>0</td>\n",
       "      <td>0</td>\n",
       "      <td>0</td>\n",
       "      <td>0</td>\n",
       "      <td>0</td>\n",
       "      <td>0</td>\n",
       "      <td>0</td>\n",
       "    </tr>\n",
       "    <tr>\n",
       "      <th>8</th>\n",
       "      <td>14.220</td>\n",
       "      <td>186.000</td>\n",
       "      <td>0</td>\n",
       "      <td>1</td>\n",
       "      <td>0</td>\n",
       "      <td>0</td>\n",
       "      <td>0</td>\n",
       "      <td>0</td>\n",
       "      <td>1</td>\n",
       "      <td>1</td>\n",
       "      <td>...</td>\n",
       "      <td>0</td>\n",
       "      <td>0</td>\n",
       "      <td>0</td>\n",
       "      <td>0</td>\n",
       "      <td>0</td>\n",
       "      <td>0</td>\n",
       "      <td>1</td>\n",
       "      <td>0</td>\n",
       "      <td>0</td>\n",
       "      <td>0</td>\n",
       "    </tr>\n",
       "    <tr>\n",
       "      <th>...</th>\n",
       "      <td>...</td>\n",
       "      <td>...</td>\n",
       "      <td>...</td>\n",
       "      <td>...</td>\n",
       "      <td>...</td>\n",
       "      <td>...</td>\n",
       "      <td>...</td>\n",
       "      <td>...</td>\n",
       "      <td>...</td>\n",
       "      <td>...</td>\n",
       "      <td>...</td>\n",
       "      <td>...</td>\n",
       "      <td>...</td>\n",
       "      <td>...</td>\n",
       "      <td>...</td>\n",
       "      <td>...</td>\n",
       "      <td>...</td>\n",
       "      <td>...</td>\n",
       "      <td>...</td>\n",
       "      <td>...</td>\n",
       "      <td>...</td>\n",
       "    </tr>\n",
       "    <tr>\n",
       "      <th>48</th>\n",
       "      <td>13.227</td>\n",
       "      <td>651.000</td>\n",
       "      <td>1</td>\n",
       "      <td>0</td>\n",
       "      <td>0</td>\n",
       "      <td>0</td>\n",
       "      <td>0</td>\n",
       "      <td>0</td>\n",
       "      <td>0</td>\n",
       "      <td>1</td>\n",
       "      <td>...</td>\n",
       "      <td>0</td>\n",
       "      <td>0</td>\n",
       "      <td>0</td>\n",
       "      <td>0</td>\n",
       "      <td>1</td>\n",
       "      <td>0</td>\n",
       "      <td>1</td>\n",
       "      <td>0</td>\n",
       "      <td>0</td>\n",
       "      <td>0</td>\n",
       "    </tr>\n",
       "    <tr>\n",
       "      <th>51</th>\n",
       "      <td>13.236</td>\n",
       "      <td>1435.000</td>\n",
       "      <td>0</td>\n",
       "      <td>0</td>\n",
       "      <td>1</td>\n",
       "      <td>0</td>\n",
       "      <td>0</td>\n",
       "      <td>0</td>\n",
       "      <td>1</td>\n",
       "      <td>0</td>\n",
       "      <td>...</td>\n",
       "      <td>0</td>\n",
       "      <td>1</td>\n",
       "      <td>0</td>\n",
       "      <td>0</td>\n",
       "      <td>0</td>\n",
       "      <td>0</td>\n",
       "      <td>0</td>\n",
       "      <td>0</td>\n",
       "      <td>1</td>\n",
       "      <td>0</td>\n",
       "    </tr>\n",
       "    <tr>\n",
       "      <th>53</th>\n",
       "      <td>13.196</td>\n",
       "      <td>950.000</td>\n",
       "      <td>0</td>\n",
       "      <td>1</td>\n",
       "      <td>0</td>\n",
       "      <td>0</td>\n",
       "      <td>0</td>\n",
       "      <td>0</td>\n",
       "      <td>1</td>\n",
       "      <td>0</td>\n",
       "      <td>...</td>\n",
       "      <td>0</td>\n",
       "      <td>0</td>\n",
       "      <td>0</td>\n",
       "      <td>0</td>\n",
       "      <td>0</td>\n",
       "      <td>0</td>\n",
       "      <td>1</td>\n",
       "      <td>0</td>\n",
       "      <td>0</td>\n",
       "      <td>0</td>\n",
       "    </tr>\n",
       "    <tr>\n",
       "      <th>54</th>\n",
       "      <td>12.731</td>\n",
       "      <td>855.000</td>\n",
       "      <td>0</td>\n",
       "      <td>1</td>\n",
       "      <td>0</td>\n",
       "      <td>0</td>\n",
       "      <td>0</td>\n",
       "      <td>0</td>\n",
       "      <td>1</td>\n",
       "      <td>0</td>\n",
       "      <td>...</td>\n",
       "      <td>0</td>\n",
       "      <td>0</td>\n",
       "      <td>0</td>\n",
       "      <td>0</td>\n",
       "      <td>0</td>\n",
       "      <td>0</td>\n",
       "      <td>0</td>\n",
       "      <td>0</td>\n",
       "      <td>0</td>\n",
       "      <td>0</td>\n",
       "    </tr>\n",
       "    <tr>\n",
       "      <th>56</th>\n",
       "      <td>12.819</td>\n",
       "      <td>1100.000</td>\n",
       "      <td>0</td>\n",
       "      <td>0</td>\n",
       "      <td>1</td>\n",
       "      <td>0</td>\n",
       "      <td>0</td>\n",
       "      <td>0</td>\n",
       "      <td>1</td>\n",
       "      <td>0</td>\n",
       "      <td>...</td>\n",
       "      <td>0</td>\n",
       "      <td>0</td>\n",
       "      <td>0</td>\n",
       "      <td>0</td>\n",
       "      <td>0</td>\n",
       "      <td>0</td>\n",
       "      <td>0</td>\n",
       "      <td>0</td>\n",
       "      <td>0</td>\n",
       "      <td>0</td>\n",
       "    </tr>\n",
       "  </tbody>\n",
       "</table>\n",
       "<p>20 rows × 22 columns</p>\n",
       "</div>"
      ],
      "text/plain": [
       "    Price     Area  Bedroom_1  Bedroom_2  Bedroom_3  Bedroom_4  Bedroom_5  \\\n",
       "1  13.437  734.400          0          1          0          0          0   \n",
       "5  13.056  530.000          1          0          0          0          0   \n",
       "6  13.617 1300.000          1          0          0          0          0   \n",
       "7  13.452  679.000          0          0          0          0          0   \n",
       "8  14.220  186.000          0          1          0          0          0   \n",
       "..    ...      ...        ...        ...        ...        ...        ...   \n",
       "48 13.227  651.000          1          0          0          0          0   \n",
       "51 13.236 1435.000          0          0          1          0          0   \n",
       "53 13.196  950.000          0          1          0          0          0   \n",
       "54 12.731  855.000          0          1          0          0          0   \n",
       "56 12.819 1100.000          0          0          1          0          0   \n",
       "\n",
       "    Bedroom_More than 5  isFurnished_unfurnished  House Type_condo  ...  \\\n",
       "1                     0                        1                 1  ...   \n",
       "5                     0                        1                 0  ...   \n",
       "6                     0                        1                 0  ...   \n",
       "7                     1                        1                 0  ...   \n",
       "8                     0                        1                 1  ...   \n",
       "..                  ...                      ...               ...  ...   \n",
       "48                    0                        0                 1  ...   \n",
       "51                    0                        1                 0  ...   \n",
       "53                    0                        1                 0  ...   \n",
       "54                    0                        1                 0  ...   \n",
       "56                    0                        1                 0  ...   \n",
       "\n",
       "    House Type_others  House Type_townhouse  Parking Type_detached garage  \\\n",
       "1                   0                     0                             0   \n",
       "5                   0                     0                             0   \n",
       "6                   0                     1                             0   \n",
       "7                   0                     0                             0   \n",
       "8                   0                     0                             0   \n",
       "..                ...                   ...                           ...   \n",
       "48                  0                     0                             0   \n",
       "51                  0                     1                             0   \n",
       "53                  0                     0                             0   \n",
       "54                  0                     0                             0   \n",
       "56                  0                     0                             0   \n",
       "\n",
       "    Parking Type_no parking  Parking Type_street parking  Bathroom_1.5  \\\n",
       "1                         0                            0             0   \n",
       "5                         0                            0             0   \n",
       "6                         0                            0             0   \n",
       "7                         0                            0             0   \n",
       "8                         0                            0             0   \n",
       "..                      ...                          ...           ...   \n",
       "48                        0                            1             0   \n",
       "51                        0                            0             0   \n",
       "53                        0                            0             0   \n",
       "54                        0                            0             0   \n",
       "56                        0                            0             0   \n",
       "\n",
       "    Bathroom_2.0  Bathroom_2.5  Bathroom_3.0  Bathroom_More than 3  \n",
       "1              1             0             0                     0  \n",
       "5              0             0             0                     0  \n",
       "6              0             0             0                     0  \n",
       "7              0             0             0                     0  \n",
       "8              1             0             0                     0  \n",
       "..           ...           ...           ...                   ...  \n",
       "48             1             0             0                     0  \n",
       "51             0             0             1                     0  \n",
       "53             1             0             0                     0  \n",
       "54             0             0             0                     0  \n",
       "56             0             0             0                     0  \n",
       "\n",
       "[20 rows x 22 columns]"
      ]
     },
     "execution_count": 770,
     "metadata": {},
     "output_type": "execute_result"
    }
   ],
   "source": [
    "final_df.head(20)"
   ]
  },
  {
   "cell_type": "markdown",
   "metadata": {},
   "source": [
    "### Linear Regression"
   ]
  },
  {
   "cell_type": "code",
   "execution_count": 780,
   "metadata": {},
   "outputs": [],
   "source": [
    "X = final_df.iloc[:, 1:]\n",
    "y = final_df.iloc[:, 0]"
   ]
  },
  {
   "cell_type": "code",
   "execution_count": 782,
   "metadata": {},
   "outputs": [],
   "source": [
    "from sklearn.model_selection import train_test_split\n",
    "X_train, X_test, y_train, y_test = train_test_split(X, y, test_size=0.3, random_state=101)"
   ]
  },
  {
   "cell_type": "code",
   "execution_count": 783,
   "metadata": {},
   "outputs": [],
   "source": [
    "from sklearn import metrics\n",
    "from sklearn.model_selection import cross_val_score\n",
    "\n",
    "def cross_val(model):\n",
    "    pred = cross_val_score(model, X, y, cv=10)\n",
    "    return pred.mean()\n",
    "\n",
    "def print_evaluate(true, predicted):  \n",
    "    mae = metrics.mean_absolute_error(true, predicted)\n",
    "    mse = metrics.mean_squared_error(true, predicted)\n",
    "    rmse = np.sqrt(metrics.mean_squared_error(true, predicted))\n",
    "    r2_square = metrics.r2_score(true, predicted)\n",
    "    print('MAE:', mae)\n",
    "    print('MSE:', mse)\n",
    "    print('RMSE:', rmse)\n",
    "    print('R2 Square', r2_square)\n",
    "    \n",
    "def evaluate(true, predicted):\n",
    "    mae = metrics.mean_absolute_error(true, predicted)\n",
    "    mse = metrics.mean_squared_error(true, predicted)\n",
    "    rmse = np.sqrt(metrics.mean_squared_error(true, predicted))\n",
    "    r2_square = metrics.r2_score(true, predicted)\n",
    "    return mae, mse, rmse, r2_square"
   ]
  },
  {
   "cell_type": "code",
   "execution_count": 784,
   "metadata": {},
   "outputs": [
    {
     "data": {
      "text/plain": [
       "LinearRegression(copy_X=True, fit_intercept=True, n_jobs=None, normalize=True)"
      ]
     },
     "execution_count": 784,
     "metadata": {},
     "output_type": "execute_result"
    }
   ],
   "source": [
    "from sklearn.linear_model import LinearRegression\n",
    "\n",
    "lin_reg = LinearRegression(normalize=True)\n",
    "lin_reg.fit(X_train,y_train)"
   ]
  },
  {
   "cell_type": "code",
   "execution_count": 785,
   "metadata": {},
   "outputs": [
    {
     "name": "stdout",
     "output_type": "stream",
     "text": [
      "13.077113742817422\n"
     ]
    }
   ],
   "source": [
    "print(lin_reg.intercept_)"
   ]
  },
  {
   "cell_type": "code",
   "execution_count": 786,
   "metadata": {},
   "outputs": [
    {
     "data": {
      "text/html": [
       "<div>\n",
       "<style scoped>\n",
       "    .dataframe tbody tr th:only-of-type {\n",
       "        vertical-align: middle;\n",
       "    }\n",
       "\n",
       "    .dataframe tbody tr th {\n",
       "        vertical-align: top;\n",
       "    }\n",
       "\n",
       "    .dataframe thead th {\n",
       "        text-align: right;\n",
       "    }\n",
       "</style>\n",
       "<table border=\"1\" class=\"dataframe\">\n",
       "  <thead>\n",
       "    <tr style=\"text-align: right;\">\n",
       "      <th></th>\n",
       "      <th>Coefficient</th>\n",
       "    </tr>\n",
       "  </thead>\n",
       "  <tbody>\n",
       "    <tr>\n",
       "      <th>Area</th>\n",
       "      <td>0.000</td>\n",
       "    </tr>\n",
       "    <tr>\n",
       "      <th>Bedroom_1</th>\n",
       "      <td>-0.087</td>\n",
       "    </tr>\n",
       "    <tr>\n",
       "      <th>Bedroom_2</th>\n",
       "      <td>-0.055</td>\n",
       "    </tr>\n",
       "    <tr>\n",
       "      <th>Bedroom_3</th>\n",
       "      <td>0.017</td>\n",
       "    </tr>\n",
       "    <tr>\n",
       "      <th>Bedroom_4</th>\n",
       "      <td>0.118</td>\n",
       "    </tr>\n",
       "    <tr>\n",
       "      <th>...</th>\n",
       "      <td>...</td>\n",
       "    </tr>\n",
       "    <tr>\n",
       "      <th>Bathroom_1.5</th>\n",
       "      <td>0.026</td>\n",
       "    </tr>\n",
       "    <tr>\n",
       "      <th>Bathroom_2.0</th>\n",
       "      <td>0.281</td>\n",
       "    </tr>\n",
       "    <tr>\n",
       "      <th>Bathroom_2.5</th>\n",
       "      <td>0.412</td>\n",
       "    </tr>\n",
       "    <tr>\n",
       "      <th>Bathroom_3.0</th>\n",
       "      <td>0.385</td>\n",
       "    </tr>\n",
       "    <tr>\n",
       "      <th>Bathroom_More than 3</th>\n",
       "      <td>0.307</td>\n",
       "    </tr>\n",
       "  </tbody>\n",
       "</table>\n",
       "<p>21 rows × 1 columns</p>\n",
       "</div>"
      ],
      "text/plain": [
       "                      Coefficient\n",
       "Area                        0.000\n",
       "Bedroom_1                  -0.087\n",
       "Bedroom_2                  -0.055\n",
       "Bedroom_3                   0.017\n",
       "Bedroom_4                   0.118\n",
       "...                           ...\n",
       "Bathroom_1.5                0.026\n",
       "Bathroom_2.0                0.281\n",
       "Bathroom_2.5                0.412\n",
       "Bathroom_3.0                0.385\n",
       "Bathroom_More than 3        0.307\n",
       "\n",
       "[21 rows x 1 columns]"
      ]
     },
     "execution_count": 786,
     "metadata": {},
     "output_type": "execute_result"
    }
   ],
   "source": [
    "coeff_df = pd.DataFrame(lin_reg.coef_, X.columns, columns=['Coefficient'])\n",
    "coeff_df"
   ]
  },
  {
   "cell_type": "code",
   "execution_count": 787,
   "metadata": {},
   "outputs": [],
   "source": [
    "pred = lin_reg.predict(X_test)"
   ]
  },
  {
   "cell_type": "code",
   "execution_count": 788,
   "metadata": {},
   "outputs": [
    {
     "data": {
      "text/plain": [
       "<matplotlib.collections.PathCollection at 0x2e27130d288>"
      ]
     },
     "execution_count": 788,
     "metadata": {},
     "output_type": "execute_result"
    },
    {
     "data": {
      "image/png": "[encoded data removed]",
      "text/plain": [
       "<Figure size 432x288 with 1 Axes>"
      ]
     },
     "metadata": {
      "needs_background": "light"
     },
     "output_type": "display_data"
    }
   ],
   "source": [
    "plt.scatter(y_test, pred)"
   ]
  },
  {
   "cell_type": "code",
   "execution_count": 789,
   "metadata": {},
   "outputs": [
    {
     "data": {
      "image/png": "[encoded data removed]",
      "text/plain": [
       "<Figure size 432x288 with 1 Axes>"
      ]
     },
     "metadata": {
      "needs_background": "light"
     },
     "output_type": "display_data"
    }
   ],
   "source": [
    "sns.distplot((y_test - pred), bins=50);"
   ]
  },
  {
   "cell_type": "code",
   "execution_count": 790,
   "metadata": {},
   "outputs": [
    {
     "name": "stdout",
     "output_type": "stream",
     "text": [
      "MAE: 0.2766485982758395\n",
      "MSE: 0.11540262378174064\n",
      "RMSE: 0.3397096168520118\n",
      "R2 Square 0.3338756162816847\n"
     ]
    }
   ],
   "source": [
    "\n",
    "\n",
    "print_evaluate(y_test, lin_reg.predict(X_test))\n",
    "\n"
   ]
  },
  {
   "cell_type": "code",
   "execution_count": 791,
   "metadata": {},
   "outputs": [
    {
     "data": {
      "text/html": [
       "<div>\n",
       "<style scoped>\n",
       "    .dataframe tbody tr th:only-of-type {\n",
       "        vertical-align: middle;\n",
       "    }\n",
       "\n",
       "    .dataframe tbody tr th {\n",
       "        vertical-align: top;\n",
       "    }\n",
       "\n",
       "    .dataframe thead th {\n",
       "        text-align: right;\n",
       "    }\n",
       "</style>\n",
       "<table border=\"1\" class=\"dataframe\">\n",
       "  <thead>\n",
       "    <tr style=\"text-align: right;\">\n",
       "      <th></th>\n",
       "      <th>Model</th>\n",
       "      <th>MAE</th>\n",
       "      <th>MSE</th>\n",
       "      <th>RMSE</th>\n",
       "      <th>R2 Square</th>\n",
       "      <th>Cross Validation</th>\n",
       "    </tr>\n",
       "  </thead>\n",
       "  <tbody>\n",
       "    <tr>\n",
       "      <th>0</th>\n",
       "      <td>Linear Regression</td>\n",
       "      <td>0.277</td>\n",
       "      <td>0.115</td>\n",
       "      <td>0.340</td>\n",
       "      <td>0.334</td>\n",
       "      <td>0.323</td>\n",
       "    </tr>\n",
       "  </tbody>\n",
       "</table>\n",
       "</div>"
      ],
      "text/plain": [
       "               Model   MAE   MSE  RMSE  R2 Square  Cross Validation\n",
       "0  Linear Regression 0.277 0.115 0.340      0.334             0.323"
      ]
     },
     "execution_count": 791,
     "metadata": {},
     "output_type": "execute_result"
    }
   ],
   "source": [
    "results_df = pd.DataFrame(data=[[\"Linear Regression\", *evaluate(y_test, pred) , cross_val(LinearRegression())]], \n",
    "                          columns=['Model', 'MAE', 'MSE', 'RMSE', 'R2 Square', \"Cross Validation\"])\n",
    "results_df"
   ]
  },
  {
   "cell_type": "code",
   "execution_count": 793,
   "metadata": {},
   "outputs": [],
   "source": [
    "# open a file, where you ant to store the data\n",
    "file = open('lin_reg_house_price.pkl', 'wb')\n",
    "\n",
    "# dump information to that file\n",
    "pickle.dump(lin_reg, file)"
   ]
  },
  {
   "cell_type": "code",
   "execution_count": 794,
   "metadata": {},
   "outputs": [
    {
     "name": "stdout",
     "output_type": "stream",
     "text": [
      "seaborn==0.9.0\n",
      "scikit-learn==0.21.3\n",
      "pandas==1.0.4\n",
      "numpy==1.16.5\n",
      "matplotlib==3.1.1\n"
     ]
    }
   ],
   "source": [
    "import pkg_resources\n",
    "import types\n",
    "def get_imports():\n",
    "    for name, val in globals().items():\n",
    "        if isinstance(val, types.ModuleType):\n",
    "            # Split ensures you get root package, \n",
    "            # not just imported function\n",
    "            name = val.__name__.split(\".\")[0]\n",
    "\n",
    "        elif isinstance(val, type):\n",
    "            name = val.__module__.split(\".\")[0]\n",
    "\n",
    "        # Some packages are weird and have different\n",
    "        # imported names vs. system/pip names. Unfortunately,\n",
    "        # there is no systematic way to get pip names from\n",
    "        # a package's imported name. You'll have to add\n",
    "        # exceptions to this list manually!\n",
    "        poorly_named_packages = {\n",
    "            \"PIL\": \"Pillow\",\n",
    "            \"sklearn\": \"scikit-learn\"\n",
    "        }\n",
    "        if name in poorly_named_packages.keys():\n",
    "            name = poorly_named_packages[name]\n",
    "\n",
    "        yield name\n",
    "imports = list(set(get_imports()))\n",
    "\n",
    "# The only way I found to get the version of the root package\n",
    "# from only the name of the package is to cross-check the names \n",
    "# of installed packages vs. imported packages\n",
    "requirements = []\n",
    "for m in pkg_resources.working_set:\n",
    "    if m.project_name in imports and m.project_name!=\"pip\":\n",
    "        requirements.append((m.project_name, m.version))\n",
    "\n",
    "for r in requirements:\n",
    "    print(\"{}=={}\".format(*r))        "
   ]
  },
  {
   "cell_type": "code",
   "execution_count": null,
   "metadata": {},
   "outputs": [],
   "source": []
  }
 ],
 "metadata": {
  "kernelspec": {
   "display_name": "Python 3",
   "language": "python",
   "name": "python3"
  },
  "language_info": {
   "codemirror_mode": {
    "name": "ipython",
    "version": 3
   },
   "file_extension": ".py",
   "mimetype": "text/x-python",
   "name": "python",
   "nbconvert_exporter": "python",
   "pygments_lexer": "ipython3",
   "version": "3.7.4"
  }
 },
 "nbformat": 4,
 "nbformat_minor": 2
}

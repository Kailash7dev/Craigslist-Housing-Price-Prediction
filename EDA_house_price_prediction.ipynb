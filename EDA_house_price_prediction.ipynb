{
 "cells": [
  {
   "cell_type": "code",
   "execution_count": 1,
   "metadata": {},
   "outputs": [
    {
     "name": "stderr",
     "output_type": "stream",
     "text": [
      "D:\\ProgramFiles\\AnacondaDistribution\\lib\\site-packages\\statsmodels\\tools\\_testing.py:19: FutureWarning: pandas.util.testing is deprecated. Use the functions in the public API at pandas.testing instead.\n",
      "  import pandas.util.testing as tm\n"
     ]
    }
   ],
   "source": [
    "import numpy as np\n",
    "import pandas as pd\n",
    "import matplotlib.pyplot as plt\n",
    "import seaborn as sns\n",
    "from sklearn.model_selection import train_test_split\n",
    "from sklearn.ensemble import RandomForestRegressor\n",
    "from sklearn.model_selection import RandomizedSearchCV\n",
    "from sklearn import metrics\n",
    "import pickle\n",
    "import re\n",
    "import math"
   ]
  },
  {
   "cell_type": "code",
   "execution_count": 2,
   "metadata": {},
   "outputs": [],
   "source": [
    "pd.set_option('display.max_rows', 10)\n",
    "pd.set_option('display.float_format', lambda x: '%.3f' % x)"
   ]
  },
  {
   "cell_type": "code",
   "execution_count": 81,
   "metadata": {},
   "outputs": [
    {
     "data": {
      "text/html": [
       "<div>\n",
       "<style scoped>\n",
       "    .dataframe tbody tr th:only-of-type {\n",
       "        vertical-align: middle;\n",
       "    }\n",
       "\n",
       "    .dataframe tbody tr th {\n",
       "        vertical-align: top;\n",
       "    }\n",
       "\n",
       "    .dataframe thead th {\n",
       "        text-align: right;\n",
       "    }\n",
       "</style>\n",
       "<table border=\"1\" class=\"dataframe\">\n",
       "  <thead>\n",
       "    <tr style=\"text-align: right;\">\n",
       "      <th></th>\n",
       "      <th>Unnamed: 0</th>\n",
       "      <th>Price</th>\n",
       "      <th>Bedroom</th>\n",
       "      <th>Area</th>\n",
       "      <th>Title</th>\n",
       "      <th>Place</th>\n",
       "      <th>Post Timing</th>\n",
       "      <th>Finishing</th>\n",
       "      <th>House Type</th>\n",
       "      <th>Parking Type</th>\n",
       "      <th>Bathroom</th>\n",
       "      <th>Link</th>\n",
       "    </tr>\n",
       "  </thead>\n",
       "  <tbody>\n",
       "    <tr>\n",
       "      <th>0</th>\n",
       "      <td>1</td>\n",
       "      <td>nan</td>\n",
       "      <td>NaN</td>\n",
       "      <td>nan</td>\n",
       "      <td>Semiahmoo Town Centre 7500 sq  ft lot</td>\n",
       "      <td>NaN</td>\n",
       "      <td>2020-07-20T19:05:26-0700</td>\n",
       "      <td>unfurnished</td>\n",
       "      <td>apartment</td>\n",
       "      <td>NaN</td>\n",
       "      <td>1</td>\n",
       "      <td>https://vancouver.craigslist.org/rds/reo/d/bla...</td>\n",
       "    </tr>\n",
       "    <tr>\n",
       "      <th>1</th>\n",
       "      <td>2</td>\n",
       "      <td>1324888.000</td>\n",
       "      <td>7</td>\n",
       "      <td>7771.000</td>\n",
       "      <td>** OPEN HOUSE JULY 26 FOR THE BEST PRICED HOME...</td>\n",
       "      <td>Newton</td>\n",
       "      <td>2020-07-25T15:47:15-0700</td>\n",
       "      <td>unfurnished</td>\n",
       "      <td>house</td>\n",
       "      <td>NaN</td>\n",
       "      <td>1</td>\n",
       "      <td>https://vancouver.craigslist.org/rds/reb/d/sur...</td>\n",
       "    </tr>\n",
       "    <tr>\n",
       "      <th>2</th>\n",
       "      <td>3</td>\n",
       "      <td>728000.000</td>\n",
       "      <td>1</td>\n",
       "      <td>547.000</td>\n",
       "      <td>***INVESTOR ALERT  - AIRBNB ALLOWED*** Downtow...</td>\n",
       "      <td>Whistler</td>\n",
       "      <td>2020-07-03T22:11:07-0700</td>\n",
       "      <td>unfurnished</td>\n",
       "      <td>apartment</td>\n",
       "      <td>NaN</td>\n",
       "      <td>1</td>\n",
       "      <td>https://vancouver.craigslist.org/van/reb/d/daw...</td>\n",
       "    </tr>\n",
       "    <tr>\n",
       "      <th>3</th>\n",
       "      <td>4</td>\n",
       "      <td>1098800.000</td>\n",
       "      <td>6</td>\n",
       "      <td>547.000</td>\n",
       "      <td>6 bed house with a basement suite in Sullivan ...</td>\n",
       "      <td>Surrey</td>\n",
       "      <td>2020-07-25T14:37:59-0700</td>\n",
       "      <td>unfurnished</td>\n",
       "      <td>apartment</td>\n",
       "      <td>NaN</td>\n",
       "      <td>4.5</td>\n",
       "      <td>https://vancouver.craigslist.org/rds/reb/d/sur...</td>\n",
       "    </tr>\n",
       "    <tr>\n",
       "      <th>4</th>\n",
       "      <td>5</td>\n",
       "      <td>632000.000</td>\n",
       "      <td>2</td>\n",
       "      <td>1305.000</td>\n",
       "      <td>High Level Executive 2 Bedroom Condo in Coquitlam</td>\n",
       "      <td>North Coquitlam</td>\n",
       "      <td>2020-07-25T14:42:39-0700</td>\n",
       "      <td>unfurnished</td>\n",
       "      <td>condo</td>\n",
       "      <td>attached garage</td>\n",
       "      <td>2</td>\n",
       "      <td>https://vancouver.craigslist.org/pml/reb/d/coq...</td>\n",
       "    </tr>\n",
       "  </tbody>\n",
       "</table>\n",
       "</div>"
      ],
      "text/plain": [
       "   Unnamed: 0       Price Bedroom     Area  \\\n",
       "0           1         nan     NaN      nan   \n",
       "1           2 1324888.000       7 7771.000   \n",
       "2           3  728000.000       1  547.000   \n",
       "3           4 1098800.000       6  547.000   \n",
       "4           5  632000.000       2 1305.000   \n",
       "\n",
       "                                               Title            Place  \\\n",
       "0              Semiahmoo Town Centre 7500 sq  ft lot              NaN   \n",
       "1  ** OPEN HOUSE JULY 26 FOR THE BEST PRICED HOME...           Newton   \n",
       "2  ***INVESTOR ALERT  - AIRBNB ALLOWED*** Downtow...         Whistler   \n",
       "3  6 bed house with a basement suite in Sullivan ...           Surrey   \n",
       "4  High Level Executive 2 Bedroom Condo in Coquitlam  North Coquitlam   \n",
       "\n",
       "                Post Timing    Finishing House Type     Parking Type Bathroom  \\\n",
       "0  2020-07-20T19:05:26-0700  unfurnished  apartment              NaN        1   \n",
       "1  2020-07-25T15:47:15-0700  unfurnished      house              NaN        1   \n",
       "2  2020-07-03T22:11:07-0700  unfurnished  apartment              NaN        1   \n",
       "3  2020-07-25T14:37:59-0700  unfurnished  apartment              NaN      4.5   \n",
       "4  2020-07-25T14:42:39-0700  unfurnished      condo  attached garage        2   \n",
       "\n",
       "                                                Link  \n",
       "0  https://vancouver.craigslist.org/rds/reo/d/bla...  \n",
       "1  https://vancouver.craigslist.org/rds/reb/d/sur...  \n",
       "2  https://vancouver.craigslist.org/van/reb/d/daw...  \n",
       "3  https://vancouver.craigslist.org/rds/reb/d/sur...  \n",
       "4  https://vancouver.craigslist.org/pml/reb/d/coq...  "
      ]
     },
     "execution_count": 81,
     "metadata": {},
     "output_type": "execute_result"
    }
   ],
   "source": [
    "\n",
    "house_df = pd.read_csv(r'Craiglist_HouseData3.csv')\n",
    "house_df.head()\n",
    "\n"
   ]
  },
  {
   "cell_type": "code",
   "execution_count": 82,
   "metadata": {},
   "outputs": [],
   "source": [
    "#drop Price with Null\n",
    "house_df.dropna(subset = [\"Price\"], inplace=True)\n",
    "house_df = house_df[house_df[\"Price\"]>1]\n",
    "house_df = house_df[house_df[\"House Type\"] !=\"land\"]\n",
    "# col_remove = [\"Title\", \"Place\", \"Post Timing\", \"Link\"]\n",
    "# house_df.drop(col_remove, axis= 1, inplace =True)\n",
    "house_df = house_df.loc[:, ~house_df.columns.str.match('Unnamed')]\n",
    "house_df.drop(house_df[house_df['Title'].str.contains(\"rent\")].index, inplace=True)\n",
    "house_df.drop(house_df[house_df['Title'].str.contains(\"Rent\")].index, inplace=True)\n",
    "house_df.drop_duplicates(subset = [\"Title\", \"Area\", \"Place\", \"Finishing\", \"Bedroom\",\"House Type\"], inplace=True) "
   ]
  },
  {
   "cell_type": "code",
   "execution_count": 83,
   "metadata": {},
   "outputs": [],
   "source": [
    "# remove land data\n",
    "house_df.drop(house_df[house_df['House Type']=='land'].index, inplace=True)\n",
    "land_index = house_df[((house_df['Title'].str.contains(\"Land\") | \n",
    "           house_df['Title'].str.contains(\"land\")) & (house_df[\"Bedroom\"].isnull()))].index\n",
    "house_df.drop(land_index, axis=0, inplace=True)"
   ]
  },
  {
   "cell_type": "code",
   "execution_count": 84,
   "metadata": {},
   "outputs": [],
   "source": [
    "# remove acre data\n",
    "land_index = house_df[((house_df['Title'].str.contains(\"acre\") | \n",
    "           house_df['Title'].str.contains(\"Acre\")) & (house_df[\"Bedroom\"].isnull()))].index\n",
    "house_df.drop(land_index, axis=0, inplace=True)"
   ]
  },
  {
   "cell_type": "code",
   "execution_count": 85,
   "metadata": {},
   "outputs": [],
   "source": [
    "# replace nan in House Type with others\n",
    "house_df[\"House Type\"].fillna(\"others\", inplace=True)"
   ]
  },
  {
   "cell_type": "code",
   "execution_count": 86,
   "metadata": {},
   "outputs": [],
   "source": [
    "# normalise the price\n",
    "house_df[\"Price\"] = np.log(house_df[\"Price\"])"
   ]
  },
  {
   "cell_type": "code",
   "execution_count": 87,
   "metadata": {},
   "outputs": [],
   "source": [
    "#bathroom null and replace values \n"
   ]
  },
  {
   "cell_type": "code",
   "execution_count": 88,
   "metadata": {},
   "outputs": [
    {
     "data": {
      "text/html": [
       "<div>\n",
       "<style scoped>\n",
       "    .dataframe tbody tr th:only-of-type {\n",
       "        vertical-align: middle;\n",
       "    }\n",
       "\n",
       "    .dataframe tbody tr th {\n",
       "        vertical-align: top;\n",
       "    }\n",
       "\n",
       "    .dataframe thead th {\n",
       "        text-align: right;\n",
       "    }\n",
       "</style>\n",
       "<table border=\"1\" class=\"dataframe\">\n",
       "  <thead>\n",
       "    <tr style=\"text-align: right;\">\n",
       "      <th></th>\n",
       "      <th>Price</th>\n",
       "      <th>Bedroom</th>\n",
       "      <th>Area</th>\n",
       "      <th>Title</th>\n",
       "      <th>Place</th>\n",
       "      <th>Post Timing</th>\n",
       "      <th>Finishing</th>\n",
       "      <th>House Type</th>\n",
       "      <th>Parking Type</th>\n",
       "      <th>Bathroom</th>\n",
       "      <th>Link</th>\n",
       "    </tr>\n",
       "  </thead>\n",
       "  <tbody>\n",
       "    <tr>\n",
       "      <th>1</th>\n",
       "      <td>14.097</td>\n",
       "      <td>7</td>\n",
       "      <td>7771.000</td>\n",
       "      <td>** OPEN HOUSE JULY 26 FOR THE BEST PRICED HOME...</td>\n",
       "      <td>Newton</td>\n",
       "      <td>2020-07-25T15:47:15-0700</td>\n",
       "      <td>unfurnished</td>\n",
       "      <td>house</td>\n",
       "      <td>NaN</td>\n",
       "      <td>1</td>\n",
       "      <td>https://vancouver.craigslist.org/rds/reb/d/sur...</td>\n",
       "    </tr>\n",
       "    <tr>\n",
       "      <th>2</th>\n",
       "      <td>13.498</td>\n",
       "      <td>1</td>\n",
       "      <td>547.000</td>\n",
       "      <td>***INVESTOR ALERT  - AIRBNB ALLOWED*** Downtow...</td>\n",
       "      <td>Whistler</td>\n",
       "      <td>2020-07-03T22:11:07-0700</td>\n",
       "      <td>unfurnished</td>\n",
       "      <td>apartment</td>\n",
       "      <td>NaN</td>\n",
       "      <td>1</td>\n",
       "      <td>https://vancouver.craigslist.org/van/reb/d/daw...</td>\n",
       "    </tr>\n",
       "    <tr>\n",
       "      <th>3</th>\n",
       "      <td>13.910</td>\n",
       "      <td>6</td>\n",
       "      <td>547.000</td>\n",
       "      <td>6 bed house with a basement suite in Sullivan ...</td>\n",
       "      <td>Surrey</td>\n",
       "      <td>2020-07-25T14:37:59-0700</td>\n",
       "      <td>unfurnished</td>\n",
       "      <td>apartment</td>\n",
       "      <td>NaN</td>\n",
       "      <td>4.5</td>\n",
       "      <td>https://vancouver.craigslist.org/rds/reb/d/sur...</td>\n",
       "    </tr>\n",
       "    <tr>\n",
       "      <th>4</th>\n",
       "      <td>13.357</td>\n",
       "      <td>2</td>\n",
       "      <td>1305.000</td>\n",
       "      <td>High Level Executive 2 Bedroom Condo in Coquitlam</td>\n",
       "      <td>North Coquitlam</td>\n",
       "      <td>2020-07-25T14:42:39-0700</td>\n",
       "      <td>unfurnished</td>\n",
       "      <td>condo</td>\n",
       "      <td>attached garage</td>\n",
       "      <td>2</td>\n",
       "      <td>https://vancouver.craigslist.org/pml/reb/d/coq...</td>\n",
       "    </tr>\n",
       "    <tr>\n",
       "      <th>5</th>\n",
       "      <td>13.382</td>\n",
       "      <td>1</td>\n",
       "      <td>771.000</td>\n",
       "      <td>Brand New 1 Bed &amp; Den in Award Winning Compass...</td>\n",
       "      <td>402 680 Seylynn Crescent</td>\n",
       "      <td>2020-07-25T14:42:17-0700</td>\n",
       "      <td>unfurnished</td>\n",
       "      <td>condo</td>\n",
       "      <td>attached garage</td>\n",
       "      <td>1</td>\n",
       "      <td>https://vancouver.craigslist.org/van/reb/d/nor...</td>\n",
       "    </tr>\n",
       "    <tr>\n",
       "      <th>...</th>\n",
       "      <td>...</td>\n",
       "      <td>...</td>\n",
       "      <td>...</td>\n",
       "      <td>...</td>\n",
       "      <td>...</td>\n",
       "      <td>...</td>\n",
       "      <td>...</td>\n",
       "      <td>...</td>\n",
       "      <td>...</td>\n",
       "      <td>...</td>\n",
       "      <td>...</td>\n",
       "    </tr>\n",
       "    <tr>\n",
       "      <th>2783</th>\n",
       "      <td>13.498</td>\n",
       "      <td>2</td>\n",
       "      <td>1174.000</td>\n",
       "      <td>Fantastic 2 Bed / 3 Bath Townhouse in Coquitlam!</td>\n",
       "      <td>6 638 REGAN AVENUE</td>\n",
       "      <td>2020-05-13T04:03:57-0700</td>\n",
       "      <td>unfurnished</td>\n",
       "      <td>townhouse</td>\n",
       "      <td>NaN</td>\n",
       "      <td>3</td>\n",
       "      <td>https://vancouver.craigslist.org/pml/reb/d/coq...</td>\n",
       "    </tr>\n",
       "    <tr>\n",
       "      <th>2784</th>\n",
       "      <td>13.773</td>\n",
       "      <td>2</td>\n",
       "      <td>90.000</td>\n",
       "      <td>Cool 2 Bed / 2 Bath Condo in Vancouver!</td>\n",
       "      <td>1007 480 ROBSON STREET</td>\n",
       "      <td>2020-05-13T03:47:06-0700</td>\n",
       "      <td>unfurnished</td>\n",
       "      <td>condo</td>\n",
       "      <td>NaN</td>\n",
       "      <td>2</td>\n",
       "      <td>https://vancouver.craigslist.org/van/reb/d/van...</td>\n",
       "    </tr>\n",
       "    <tr>\n",
       "      <th>2785</th>\n",
       "      <td>13.592</td>\n",
       "      <td>3</td>\n",
       "      <td>1163.000</td>\n",
       "      <td>Spacious 3 Bed / 3 Bath Townhouse in Burnaby!</td>\n",
       "      <td>115 7499 6TH STREET</td>\n",
       "      <td>2020-05-27T00:10:34-0700</td>\n",
       "      <td>unfurnished</td>\n",
       "      <td>townhouse</td>\n",
       "      <td>NaN</td>\n",
       "      <td>3</td>\n",
       "      <td>https://vancouver.craigslist.org/bnc/reb/d/bur...</td>\n",
       "    </tr>\n",
       "    <tr>\n",
       "      <th>2786</th>\n",
       "      <td>13.090</td>\n",
       "      <td>1</td>\n",
       "      <td>60.000</td>\n",
       "      <td>Amazing 1 Bed / 1 Bath Condo in Coquitlam!</td>\n",
       "      <td>311 700 CLARKE ROAD</td>\n",
       "      <td>2020-05-26T23:12:59-0700</td>\n",
       "      <td>unfurnished</td>\n",
       "      <td>condo</td>\n",
       "      <td>NaN</td>\n",
       "      <td>1</td>\n",
       "      <td>https://vancouver.craigslist.org/pml/reb/d/coq...</td>\n",
       "    </tr>\n",
       "    <tr>\n",
       "      <th>2787</th>\n",
       "      <td>13.190</td>\n",
       "      <td>2</td>\n",
       "      <td>680.000</td>\n",
       "      <td>Fantastic 2 Bed / 1 Bath Condo in Coquitlam!</td>\n",
       "      <td>401 700 CLARKE ROAD</td>\n",
       "      <td>2020-05-26T23:30:00-0700</td>\n",
       "      <td>unfurnished</td>\n",
       "      <td>condo</td>\n",
       "      <td>NaN</td>\n",
       "      <td>1</td>\n",
       "      <td>https://vancouver.craigslist.org/pml/reb/d/coq...</td>\n",
       "    </tr>\n",
       "  </tbody>\n",
       "</table>\n",
       "<p>2084 rows × 11 columns</p>\n",
       "</div>"
      ],
      "text/plain": [
       "      Price Bedroom     Area  \\\n",
       "1    14.097       7 7771.000   \n",
       "2    13.498       1  547.000   \n",
       "3    13.910       6  547.000   \n",
       "4    13.357       2 1305.000   \n",
       "5    13.382       1  771.000   \n",
       "...     ...     ...      ...   \n",
       "2783 13.498       2 1174.000   \n",
       "2784 13.773       2   90.000   \n",
       "2785 13.592       3 1163.000   \n",
       "2786 13.090       1   60.000   \n",
       "2787 13.190       2  680.000   \n",
       "\n",
       "                                                  Title  \\\n",
       "1     ** OPEN HOUSE JULY 26 FOR THE BEST PRICED HOME...   \n",
       "2     ***INVESTOR ALERT  - AIRBNB ALLOWED*** Downtow...   \n",
       "3     6 bed house with a basement suite in Sullivan ...   \n",
       "4     High Level Executive 2 Bedroom Condo in Coquitlam   \n",
       "5     Brand New 1 Bed & Den in Award Winning Compass...   \n",
       "...                                                 ...   \n",
       "2783   Fantastic 2 Bed / 3 Bath Townhouse in Coquitlam!   \n",
       "2784            Cool 2 Bed / 2 Bath Condo in Vancouver!   \n",
       "2785      Spacious 3 Bed / 3 Bath Townhouse in Burnaby!   \n",
       "2786         Amazing 1 Bed / 1 Bath Condo in Coquitlam!   \n",
       "2787       Fantastic 2 Bed / 1 Bath Condo in Coquitlam!   \n",
       "\n",
       "                         Place               Post Timing    Finishing  \\\n",
       "1                       Newton  2020-07-25T15:47:15-0700  unfurnished   \n",
       "2                     Whistler  2020-07-03T22:11:07-0700  unfurnished   \n",
       "3                       Surrey  2020-07-25T14:37:59-0700  unfurnished   \n",
       "4              North Coquitlam  2020-07-25T14:42:39-0700  unfurnished   \n",
       "5     402 680 Seylynn Crescent  2020-07-25T14:42:17-0700  unfurnished   \n",
       "...                        ...                       ...          ...   \n",
       "2783        6 638 REGAN AVENUE  2020-05-13T04:03:57-0700  unfurnished   \n",
       "2784    1007 480 ROBSON STREET  2020-05-13T03:47:06-0700  unfurnished   \n",
       "2785       115 7499 6TH STREET  2020-05-27T00:10:34-0700  unfurnished   \n",
       "2786       311 700 CLARKE ROAD  2020-05-26T23:12:59-0700  unfurnished   \n",
       "2787       401 700 CLARKE ROAD  2020-05-26T23:30:00-0700  unfurnished   \n",
       "\n",
       "     House Type     Parking Type Bathroom  \\\n",
       "1         house              NaN        1   \n",
       "2     apartment              NaN        1   \n",
       "3     apartment              NaN      4.5   \n",
       "4         condo  attached garage        2   \n",
       "5         condo  attached garage        1   \n",
       "...         ...              ...      ...   \n",
       "2783  townhouse              NaN        3   \n",
       "2784      condo              NaN        2   \n",
       "2785  townhouse              NaN        3   \n",
       "2786      condo              NaN        1   \n",
       "2787      condo              NaN        1   \n",
       "\n",
       "                                                   Link  \n",
       "1     https://vancouver.craigslist.org/rds/reb/d/sur...  \n",
       "2     https://vancouver.craigslist.org/van/reb/d/daw...  \n",
       "3     https://vancouver.craigslist.org/rds/reb/d/sur...  \n",
       "4     https://vancouver.craigslist.org/pml/reb/d/coq...  \n",
       "5     https://vancouver.craigslist.org/van/reb/d/nor...  \n",
       "...                                                 ...  \n",
       "2783  https://vancouver.craigslist.org/pml/reb/d/coq...  \n",
       "2784  https://vancouver.craigslist.org/van/reb/d/van...  \n",
       "2785  https://vancouver.craigslist.org/bnc/reb/d/bur...  \n",
       "2786  https://vancouver.craigslist.org/pml/reb/d/coq...  \n",
       "2787  https://vancouver.craigslist.org/pml/reb/d/coq...  \n",
       "\n",
       "[2084 rows x 11 columns]"
      ]
     },
     "execution_count": 88,
     "metadata": {},
     "output_type": "execute_result"
    }
   ],
   "source": [
    "house_df"
   ]
  },
  {
   "cell_type": "code",
   "execution_count": 89,
   "metadata": {},
   "outputs": [
    {
     "data": {
      "text/html": [
       "<div>\n",
       "<style scoped>\n",
       "    .dataframe tbody tr th:only-of-type {\n",
       "        vertical-align: middle;\n",
       "    }\n",
       "\n",
       "    .dataframe tbody tr th {\n",
       "        vertical-align: top;\n",
       "    }\n",
       "\n",
       "    .dataframe thead th {\n",
       "        text-align: right;\n",
       "    }\n",
       "</style>\n",
       "<table border=\"1\" class=\"dataframe\">\n",
       "  <thead>\n",
       "    <tr style=\"text-align: right;\">\n",
       "      <th></th>\n",
       "      <th>Price</th>\n",
       "      <th>Area</th>\n",
       "    </tr>\n",
       "  </thead>\n",
       "  <tbody>\n",
       "    <tr>\n",
       "      <th>count</th>\n",
       "      <td>2084.000</td>\n",
       "      <td>1641.000</td>\n",
       "    </tr>\n",
       "    <tr>\n",
       "      <th>mean</th>\n",
       "      <td>13.301</td>\n",
       "      <td>2088.730</td>\n",
       "    </tr>\n",
       "    <tr>\n",
       "      <th>std</th>\n",
       "      <td>1.409</td>\n",
       "      <td>16700.137</td>\n",
       "    </tr>\n",
       "    <tr>\n",
       "      <th>min</th>\n",
       "      <td>0.693</td>\n",
       "      <td>0.000</td>\n",
       "    </tr>\n",
       "    <tr>\n",
       "      <th>25%</th>\n",
       "      <td>13.098</td>\n",
       "      <td>460.000</td>\n",
       "    </tr>\n",
       "    <tr>\n",
       "      <th>50%</th>\n",
       "      <td>13.457</td>\n",
       "      <td>879.000</td>\n",
       "    </tr>\n",
       "    <tr>\n",
       "      <th>75%</th>\n",
       "      <td>13.911</td>\n",
       "      <td>1484.000</td>\n",
       "    </tr>\n",
       "    <tr>\n",
       "      <th>max</th>\n",
       "      <td>19.844</td>\n",
       "      <td>549000.000</td>\n",
       "    </tr>\n",
       "  </tbody>\n",
       "</table>\n",
       "</div>"
      ],
      "text/plain": [
       "         Price       Area\n",
       "count 2084.000   1641.000\n",
       "mean    13.301   2088.730\n",
       "std      1.409  16700.137\n",
       "min      0.693      0.000\n",
       "25%     13.098    460.000\n",
       "50%     13.457    879.000\n",
       "75%     13.911   1484.000\n",
       "max     19.844 549000.000"
      ]
     },
     "execution_count": 89,
     "metadata": {},
     "output_type": "execute_result"
    }
   ],
   "source": [
    "house_df.describe()"
   ]
  },
  {
   "cell_type": "code",
   "execution_count": 90,
   "metadata": {},
   "outputs": [
    {
     "name": "stdout",
     "output_type": "stream",
     "text": [
      "Bedroom unique values - ['7' '1' '6' '2' '5' '8' '3' '4' nan '9' '0'] \n",
      "\n",
      "Bathroom unique values - ['1' '4.5' '2' '0' '5' '9+' '6' '8' '3' '4' '3.5' '2.5' '6.5' '7' '1.5'\n",
      " 'shared' '5.5' '7.5' nan 'split'] \n",
      "\n",
      "House Type - ['house' 'apartment' 'condo' 'townhouse' 'others' 'duplex' 'flat'] \n",
      "\n"
     ]
    }
   ],
   "source": [
    "print('Bedroom unique values -', house_df['Bedroom'].unique(),'\\n')\n",
    "print('Bathroom unique values -', house_df['Bathroom'].unique(),'\\n')\n",
    "print('House Type -', house_df['House Type'].unique(),'\\n')"
   ]
  },
  {
   "cell_type": "markdown",
   "metadata": {},
   "source": [
    "### Bathroom"
   ]
  },
  {
   "cell_type": "code",
   "execution_count": 91,
   "metadata": {},
   "outputs": [
    {
     "name": "stderr",
     "output_type": "stream",
     "text": [
      "D:\\ProgramFiles\\AnacondaDistribution\\lib\\site-packages\\pandas\\core\\indexing.py:671: SettingWithCopyWarning: \n",
      "A value is trying to be set on a copy of a slice from a DataFrame\n",
      "\n",
      "See the caveats in the documentation: https://pandas.pydata.org/pandas-docs/stable/user_guide/indexing.html#returning-a-view-versus-a-copy\n",
      "  self._setitem_with_indexer(indexer, value)\n"
     ]
    }
   ],
   "source": [
    "#bathroom fillna with groupby(House Type)\n",
    "house_df['Bathroom'].loc[((house_df['Bathroom']== \"9+\") \n",
    "                         |(house_df['Bathroom']== \"shared\")\n",
    "                        |(house_df['Bathroom']== \"split\")\n",
    "                         |(house_df['Bathroom']==\"0\"))] = np.nan\n",
    "house_df['Bathroom'] = pd.to_numeric(house_df['Bathroom'], downcast='integer')\n",
    "house_df['Bathroom'].loc[house_df['Bathroom']> 4] = np.nan"
   ]
  },
  {
   "cell_type": "code",
   "execution_count": 92,
   "metadata": {},
   "outputs": [
    {
     "data": {
      "text/plain": [
       "House Type\n",
       "apartment   2.000\n",
       "condo       1.000\n",
       "duplex      3.500\n",
       "flat        1.000\n",
       "house       2.000\n",
       "others      1.000\n",
       "townhouse   3.000\n",
       "Name: Bathroom, dtype: float64"
      ]
     },
     "execution_count": 92,
     "metadata": {},
     "output_type": "execute_result"
    }
   ],
   "source": [
    "house_df.groupby(['House Type'])['Bathroom'].agg(pd.Series.mode)"
   ]
  },
  {
   "cell_type": "code",
   "execution_count": 93,
   "metadata": {},
   "outputs": [],
   "source": [
    "house_df['Bathroom'].loc[((house_df['House Type'] == \"apartment\") |\n",
    "              (house_df['House Type'] == \"condo\")|\n",
    "              (house_df['House Type'] == \"duplex\")|\n",
    "              (house_df['House Type'] == \"house\"))& (house_df['Bathroom'].isnull())] = 2\n",
    "house_df['Bathroom'].loc[((house_df['House Type'] == \"townhouse\"))& (house_df['Bathroom'].isnull())] = 3\n",
    "house_df['Bathroom'].loc[((house_df['House Type'] == \"others\"))& (house_df['Bathroom'].isnull())] = 1"
   ]
  },
  {
   "cell_type": "code",
   "execution_count": 94,
   "metadata": {},
   "outputs": [
    {
     "data": {
      "text/plain": [
       "array([1. , 2. , 3. , 4. , 3.5, 2.5, 1.5])"
      ]
     },
     "execution_count": 94,
     "metadata": {},
     "output_type": "execute_result"
    }
   ],
   "source": [
    "house_df['Bathroom'].unique()"
   ]
  },
  {
   "cell_type": "code",
   "execution_count": 95,
   "metadata": {},
   "outputs": [
    {
     "data": {
      "text/plain": [
       "Bathroom\n",
       "1.000    560\n",
       "1.500     50\n",
       "2.000    890\n",
       "2.500     92\n",
       "3.000    303\n",
       "3.500     49\n",
       "4.000    140\n",
       "Name: (Price, count), dtype: int64"
      ]
     },
     "execution_count": 95,
     "metadata": {},
     "output_type": "execute_result"
    }
   ],
   "source": [
    "house_df.groupby(\"Bathroom\").agg([ 'count']).iloc[:,0]"
   ]
  },
  {
   "cell_type": "code",
   "execution_count": 96,
   "metadata": {},
   "outputs": [],
   "source": [
    "house_df[\"Bathroom\"].loc[house_df[\"Bathroom\"]>3] = 4"
   ]
  },
  {
   "cell_type": "code",
   "execution_count": 97,
   "metadata": {},
   "outputs": [
    {
     "data": {
      "text/plain": [
       "Bathroom\n",
       "1.000    560\n",
       "1.500     50\n",
       "2.000    890\n",
       "2.500     92\n",
       "3.000    303\n",
       "4.000    189\n",
       "Name: (Price, count), dtype: int64"
      ]
     },
     "execution_count": 97,
     "metadata": {},
     "output_type": "execute_result"
    }
   ],
   "source": [
    "house_df.groupby(\"Bathroom\").agg([ 'count']).iloc[:,0]"
   ]
  },
  {
   "cell_type": "markdown",
   "metadata": {},
   "source": [
    "#### Parking"
   ]
  },
  {
   "cell_type": "code",
   "execution_count": 98,
   "metadata": {},
   "outputs": [
    {
     "data": {
      "text/plain": [
       "House Type  Parking Type   \n",
       "apartment   attached garage    229\n",
       "            detached garage     16\n",
       "            no parking           6\n",
       "            street parking      44\n",
       "condo       attached garage    117\n",
       "                              ... \n",
       "others      no parking           1\n",
       "            street parking      22\n",
       "townhouse   attached garage    109\n",
       "            detached garage     10\n",
       "            street parking       6\n",
       "Name: Price, Length: 21, dtype: int64"
      ]
     },
     "execution_count": 98,
     "metadata": {},
     "output_type": "execute_result"
    }
   ],
   "source": [
    "house_df[house_df['Parking Type'].notnull()].groupby(['House Type','Parking Type']).agg('count').iloc[:,0]"
   ]
  },
  {
   "cell_type": "code",
   "execution_count": 99,
   "metadata": {},
   "outputs": [],
   "source": [
    "house_df['Parking Type'].fillna('attached garage', inplace=True)"
   ]
  },
  {
   "cell_type": "code",
   "execution_count": 100,
   "metadata": {},
   "outputs": [
    {
     "data": {
      "text/plain": [
       "0"
      ]
     },
     "execution_count": 100,
     "metadata": {},
     "output_type": "execute_result"
    }
   ],
   "source": [
    "house_df['Parking Type'].isnull().sum()"
   ]
  },
  {
   "cell_type": "markdown",
   "metadata": {},
   "source": [
    "### Finishing"
   ]
  },
  {
   "cell_type": "code",
   "execution_count": 101,
   "metadata": {},
   "outputs": [],
   "source": [
    "house_df.rename({'Finishing': 'isFurnished'}, axis=1, inplace=True)  "
   ]
  },
  {
   "cell_type": "code",
   "execution_count": 102,
   "metadata": {},
   "outputs": [
    {
     "data": {
      "text/plain": [
       "array(['unfurnished', 'furnished'], dtype=object)"
      ]
     },
     "execution_count": 102,
     "metadata": {},
     "output_type": "execute_result"
    }
   ],
   "source": [
    "house_df[\"isFurnished\"].unique()"
   ]
  },
  {
   "cell_type": "code",
   "execution_count": 103,
   "metadata": {},
   "outputs": [
    {
     "data": {
      "text/plain": [
       "1       0\n",
       "2       0\n",
       "3       0\n",
       "4       0\n",
       "5       0\n",
       "       ..\n",
       "2783    0\n",
       "2784    0\n",
       "2785    0\n",
       "2786    0\n",
       "2787    0\n",
       "Name: isFurnished, Length: 2084, dtype: int64"
      ]
     },
     "execution_count": 103,
     "metadata": {},
     "output_type": "execute_result"
    }
   ],
   "source": [
    "house_df[\"isFurnished\"].replace({'unfurnished':0, 'furnished':1})"
   ]
  },
  {
   "cell_type": "markdown",
   "metadata": {},
   "source": [
    "### Area"
   ]
  },
  {
   "cell_type": "code",
   "execution_count": 104,
   "metadata": {},
   "outputs": [],
   "source": [
    "house_df['Area'].fillna(house_df.groupby(['House Type', 'Bathroom'])['Area'].transform('mean'), inplace=True)"
   ]
  },
  {
   "cell_type": "code",
   "execution_count": 105,
   "metadata": {},
   "outputs": [],
   "source": [
    "house_df.drop(house_df[house_df.Area.isnull()].index,inplace=True)"
   ]
  },
  {
   "cell_type": "code",
   "execution_count": 106,
   "metadata": {},
   "outputs": [
    {
     "data": {
      "text/plain": [
       "0"
      ]
     },
     "execution_count": 106,
     "metadata": {},
     "output_type": "execute_result"
    }
   ],
   "source": [
    "house_df[\"Area\"].isnull().sum()"
   ]
  },
  {
   "cell_type": "markdown",
   "metadata": {},
   "source": [
    "### Bedroom"
   ]
  },
  {
   "cell_type": "code",
   "execution_count": 107,
   "metadata": {},
   "outputs": [
    {
     "data": {
      "text/plain": [
       "House Type\n",
       "apartment    2\n",
       "condo        2\n",
       "duplex       4\n",
       "house        4\n",
       "others       2\n",
       "townhouse    3\n",
       "Name: Bedroom, dtype: object"
      ]
     },
     "execution_count": 107,
     "metadata": {},
     "output_type": "execute_result"
    }
   ],
   "source": [
    "house_df.groupby(['House Type'])['Bedroom'].agg(pd.Series.mode)"
   ]
  },
  {
   "cell_type": "code",
   "execution_count": 108,
   "metadata": {},
   "outputs": [],
   "source": [
    "house_df['Bedroom'].loc[((house_df['House Type'] == \"apartment\") |\n",
    "              (house_df['House Type'] == \"condo\")|\n",
    "              (house_df['House Type'] == \"others\"))& (house_df['Bedroom'].isnull())] = 2\n",
    "house_df['Bedroom'].loc[((house_df['House Type'] == \"duplex\")|\n",
    "                        (house_df['House Type'] == \"townhouse\"))& (house_df['Bedroom'].isnull())] = 3\n",
    "house_df['Bedroom'].loc[((house_df['House Type'] == \"house\"))& (house_df['Bedroom'].isnull())] = 4"
   ]
  },
  {
   "cell_type": "code",
   "execution_count": 109,
   "metadata": {},
   "outputs": [],
   "source": [
    "house_df['Bedroom'] = pd.to_numeric(house_df[\"Bedroom\"])\n",
    "house_df['Bedroom'].loc[house_df[house_df['Bedroom']>5].index] = 6"
   ]
  },
  {
   "cell_type": "code",
   "execution_count": 110,
   "metadata": {},
   "outputs": [
    {
     "data": {
      "text/plain": [
       "0"
      ]
     },
     "execution_count": 110,
     "metadata": {},
     "output_type": "execute_result"
    }
   ],
   "source": [
    "house_df['Bedroom'].isnull().sum()"
   ]
  },
  {
   "cell_type": "markdown",
   "metadata": {},
   "source": [
    "#### outliers"
   ]
  },
  {
   "cell_type": "code",
   "execution_count": 111,
   "metadata": {},
   "outputs": [],
   "source": [
    "def reject_outliers(sr, iq_range=0.5):\n",
    "    pcnt = (1 - iq_range) / 2\n",
    "    qlow, median, qhigh = sr.dropna().quantile([pcnt, 0.50, 1-pcnt])\n",
    "    iqr = qhigh - qlow\n",
    "    return sr[ (sr - median).abs() <= iqr]"
   ]
  },
  {
   "cell_type": "code",
   "execution_count": 112,
   "metadata": {},
   "outputs": [],
   "source": [
    "house_df = house_df.loc[reject_outliers(house_df[\"Price\"]).index]"
   ]
  },
  {
   "cell_type": "code",
   "execution_count": 113,
   "metadata": {},
   "outputs": [],
   "source": [
    "house_df = house_df.loc[reject_outliers(house_df[\"Area\"]).index]"
   ]
  },
  {
   "cell_type": "code",
   "execution_count": 114,
   "metadata": {},
   "outputs": [
    {
     "data": {
      "image/png": "[encoded data removed]",
      "text/plain": [
       "<Figure size 432x288 with 1 Axes>"
      ]
     },
     "metadata": {
      "needs_background": "light"
     },
     "output_type": "display_data"
    }
   ],
   "source": [
    "ax = sns.distplot(house_df['Price'])"
   ]
  },
  {
   "cell_type": "code",
   "execution_count": 115,
   "metadata": {},
   "outputs": [],
   "source": [
    "col_remove = [\"Title\", \"Place\", \"Post Timing\", \"Link\"]\n",
    "house_df.drop(col_remove, axis= 1, inplace =True)"
   ]
  },
  {
   "cell_type": "code",
   "execution_count": 116,
   "metadata": {},
   "outputs": [
    {
     "data": {
      "text/html": [
       "<div>\n",
       "<style scoped>\n",
       "    .dataframe tbody tr th:only-of-type {\n",
       "        vertical-align: middle;\n",
       "    }\n",
       "\n",
       "    .dataframe tbody tr th {\n",
       "        vertical-align: top;\n",
       "    }\n",
       "\n",
       "    .dataframe thead th {\n",
       "        text-align: right;\n",
       "    }\n",
       "</style>\n",
       "<table border=\"1\" class=\"dataframe\">\n",
       "  <thead>\n",
       "    <tr style=\"text-align: right;\">\n",
       "      <th></th>\n",
       "      <th>Price</th>\n",
       "      <th>Bedroom</th>\n",
       "      <th>Area</th>\n",
       "      <th>isFurnished</th>\n",
       "      <th>House Type</th>\n",
       "      <th>Parking Type</th>\n",
       "      <th>Bathroom</th>\n",
       "    </tr>\n",
       "  </thead>\n",
       "  <tbody>\n",
       "    <tr>\n",
       "      <th>2</th>\n",
       "      <td>13.498</td>\n",
       "      <td>1</td>\n",
       "      <td>547.000</td>\n",
       "      <td>unfurnished</td>\n",
       "      <td>apartment</td>\n",
       "      <td>attached garage</td>\n",
       "      <td>1.000</td>\n",
       "    </tr>\n",
       "    <tr>\n",
       "      <th>3</th>\n",
       "      <td>13.910</td>\n",
       "      <td>6</td>\n",
       "      <td>547.000</td>\n",
       "      <td>unfurnished</td>\n",
       "      <td>apartment</td>\n",
       "      <td>attached garage</td>\n",
       "      <td>2.000</td>\n",
       "    </tr>\n",
       "    <tr>\n",
       "      <th>4</th>\n",
       "      <td>13.357</td>\n",
       "      <td>2</td>\n",
       "      <td>1305.000</td>\n",
       "      <td>unfurnished</td>\n",
       "      <td>condo</td>\n",
       "      <td>attached garage</td>\n",
       "      <td>2.000</td>\n",
       "    </tr>\n",
       "    <tr>\n",
       "      <th>5</th>\n",
       "      <td>13.382</td>\n",
       "      <td>1</td>\n",
       "      <td>771.000</td>\n",
       "      <td>unfurnished</td>\n",
       "      <td>condo</td>\n",
       "      <td>attached garage</td>\n",
       "      <td>1.000</td>\n",
       "    </tr>\n",
       "    <tr>\n",
       "      <th>6</th>\n",
       "      <td>13.910</td>\n",
       "      <td>2</td>\n",
       "      <td>11.000</td>\n",
       "      <td>unfurnished</td>\n",
       "      <td>condo</td>\n",
       "      <td>attached garage</td>\n",
       "      <td>2.000</td>\n",
       "    </tr>\n",
       "  </tbody>\n",
       "</table>\n",
       "</div>"
      ],
      "text/plain": [
       "   Price  Bedroom     Area  isFurnished House Type     Parking Type  Bathroom\n",
       "2 13.498        1  547.000  unfurnished  apartment  attached garage     1.000\n",
       "3 13.910        6  547.000  unfurnished  apartment  attached garage     2.000\n",
       "4 13.357        2 1305.000  unfurnished      condo  attached garage     2.000\n",
       "5 13.382        1  771.000  unfurnished      condo  attached garage     1.000\n",
       "6 13.910        2   11.000  unfurnished      condo  attached garage     2.000"
      ]
     },
     "execution_count": 116,
     "metadata": {},
     "output_type": "execute_result"
    }
   ],
   "source": [
    "house_df.head()"
   ]
  },
  {
   "cell_type": "code",
   "execution_count": 117,
   "metadata": {},
   "outputs": [
    {
     "data": {
      "text/plain": [
       "(1410, 7)"
      ]
     },
     "execution_count": 117,
     "metadata": {},
     "output_type": "execute_result"
    }
   ],
   "source": [
    "house_df.shape"
   ]
  },
  {
   "cell_type": "code",
   "execution_count": 118,
   "metadata": {},
   "outputs": [],
   "source": [
    "# house_df[\"reverseLog\"] = Z =  np.exp(house_df[\"logPrice\"])"
   ]
  },
  {
   "cell_type": "code",
   "execution_count": 119,
   "metadata": {},
   "outputs": [
    {
     "data": {
      "text/plain": [
       "array([1. , 2. , 3. , 4. , 2.5, 1.5])"
      ]
     },
     "execution_count": 119,
     "metadata": {},
     "output_type": "execute_result"
    }
   ],
   "source": [
    "house_df[\"Bathroom\"].unique()"
   ]
  },
  {
   "cell_type": "code",
   "execution_count": 120,
   "metadata": {},
   "outputs": [],
   "source": [
    "final_df = pd.get_dummies(house_df, drop_first=True)"
   ]
  },
  {
   "cell_type": "code",
   "execution_count": 121,
   "metadata": {},
   "outputs": [
    {
     "data": {
      "text/html": [
       "<div>\n",
       "<style scoped>\n",
       "    .dataframe tbody tr th:only-of-type {\n",
       "        vertical-align: middle;\n",
       "    }\n",
       "\n",
       "    .dataframe tbody tr th {\n",
       "        vertical-align: top;\n",
       "    }\n",
       "\n",
       "    .dataframe thead th {\n",
       "        text-align: right;\n",
       "    }\n",
       "</style>\n",
       "<table border=\"1\" class=\"dataframe\">\n",
       "  <thead>\n",
       "    <tr style=\"text-align: right;\">\n",
       "      <th></th>\n",
       "      <th>Price</th>\n",
       "      <th>Bedroom</th>\n",
       "      <th>Area</th>\n",
       "      <th>Bathroom</th>\n",
       "      <th>isFurnished_unfurnished</th>\n",
       "      <th>House Type_condo</th>\n",
       "      <th>House Type_duplex</th>\n",
       "      <th>House Type_house</th>\n",
       "      <th>House Type_others</th>\n",
       "      <th>House Type_townhouse</th>\n",
       "      <th>Parking Type_detached garage</th>\n",
       "      <th>Parking Type_no parking</th>\n",
       "      <th>Parking Type_street parking</th>\n",
       "    </tr>\n",
       "  </thead>\n",
       "  <tbody>\n",
       "    <tr>\n",
       "      <th>2</th>\n",
       "      <td>13.498</td>\n",
       "      <td>1</td>\n",
       "      <td>547.000</td>\n",
       "      <td>1.000</td>\n",
       "      <td>1</td>\n",
       "      <td>0</td>\n",
       "      <td>0</td>\n",
       "      <td>0</td>\n",
       "      <td>0</td>\n",
       "      <td>0</td>\n",
       "      <td>0</td>\n",
       "      <td>0</td>\n",
       "      <td>0</td>\n",
       "    </tr>\n",
       "    <tr>\n",
       "      <th>3</th>\n",
       "      <td>13.910</td>\n",
       "      <td>6</td>\n",
       "      <td>547.000</td>\n",
       "      <td>2.000</td>\n",
       "      <td>1</td>\n",
       "      <td>0</td>\n",
       "      <td>0</td>\n",
       "      <td>0</td>\n",
       "      <td>0</td>\n",
       "      <td>0</td>\n",
       "      <td>0</td>\n",
       "      <td>0</td>\n",
       "      <td>0</td>\n",
       "    </tr>\n",
       "    <tr>\n",
       "      <th>4</th>\n",
       "      <td>13.357</td>\n",
       "      <td>2</td>\n",
       "      <td>1305.000</td>\n",
       "      <td>2.000</td>\n",
       "      <td>1</td>\n",
       "      <td>1</td>\n",
       "      <td>0</td>\n",
       "      <td>0</td>\n",
       "      <td>0</td>\n",
       "      <td>0</td>\n",
       "      <td>0</td>\n",
       "      <td>0</td>\n",
       "      <td>0</td>\n",
       "    </tr>\n",
       "    <tr>\n",
       "      <th>5</th>\n",
       "      <td>13.382</td>\n",
       "      <td>1</td>\n",
       "      <td>771.000</td>\n",
       "      <td>1.000</td>\n",
       "      <td>1</td>\n",
       "      <td>1</td>\n",
       "      <td>0</td>\n",
       "      <td>0</td>\n",
       "      <td>0</td>\n",
       "      <td>0</td>\n",
       "      <td>0</td>\n",
       "      <td>0</td>\n",
       "      <td>0</td>\n",
       "    </tr>\n",
       "    <tr>\n",
       "      <th>6</th>\n",
       "      <td>13.910</td>\n",
       "      <td>2</td>\n",
       "      <td>11.000</td>\n",
       "      <td>2.000</td>\n",
       "      <td>1</td>\n",
       "      <td>1</td>\n",
       "      <td>0</td>\n",
       "      <td>0</td>\n",
       "      <td>0</td>\n",
       "      <td>0</td>\n",
       "      <td>0</td>\n",
       "      <td>0</td>\n",
       "      <td>0</td>\n",
       "    </tr>\n",
       "    <tr>\n",
       "      <th>...</th>\n",
       "      <td>...</td>\n",
       "      <td>...</td>\n",
       "      <td>...</td>\n",
       "      <td>...</td>\n",
       "      <td>...</td>\n",
       "      <td>...</td>\n",
       "      <td>...</td>\n",
       "      <td>...</td>\n",
       "      <td>...</td>\n",
       "      <td>...</td>\n",
       "      <td>...</td>\n",
       "      <td>...</td>\n",
       "      <td>...</td>\n",
       "    </tr>\n",
       "    <tr>\n",
       "      <th>32</th>\n",
       "      <td>13.815</td>\n",
       "      <td>3</td>\n",
       "      <td>1.000</td>\n",
       "      <td>2.000</td>\n",
       "      <td>1</td>\n",
       "      <td>0</td>\n",
       "      <td>0</td>\n",
       "      <td>0</td>\n",
       "      <td>1</td>\n",
       "      <td>0</td>\n",
       "      <td>0</td>\n",
       "      <td>0</td>\n",
       "      <td>0</td>\n",
       "    </tr>\n",
       "    <tr>\n",
       "      <th>34</th>\n",
       "      <td>13.092</td>\n",
       "      <td>2</td>\n",
       "      <td>895.000</td>\n",
       "      <td>1.000</td>\n",
       "      <td>1</td>\n",
       "      <td>0</td>\n",
       "      <td>0</td>\n",
       "      <td>0</td>\n",
       "      <td>0</td>\n",
       "      <td>0</td>\n",
       "      <td>0</td>\n",
       "      <td>0</td>\n",
       "      <td>0</td>\n",
       "    </tr>\n",
       "    <tr>\n",
       "      <th>35</th>\n",
       "      <td>13.385</td>\n",
       "      <td>1</td>\n",
       "      <td>533.000</td>\n",
       "      <td>1.000</td>\n",
       "      <td>1</td>\n",
       "      <td>0</td>\n",
       "      <td>0</td>\n",
       "      <td>0</td>\n",
       "      <td>0</td>\n",
       "      <td>0</td>\n",
       "      <td>0</td>\n",
       "      <td>0</td>\n",
       "      <td>0</td>\n",
       "    </tr>\n",
       "    <tr>\n",
       "      <th>37</th>\n",
       "      <td>14.122</td>\n",
       "      <td>4</td>\n",
       "      <td>1960.000</td>\n",
       "      <td>4.000</td>\n",
       "      <td>1</td>\n",
       "      <td>0</td>\n",
       "      <td>1</td>\n",
       "      <td>0</td>\n",
       "      <td>0</td>\n",
       "      <td>0</td>\n",
       "      <td>1</td>\n",
       "      <td>0</td>\n",
       "      <td>0</td>\n",
       "    </tr>\n",
       "    <tr>\n",
       "      <th>38</th>\n",
       "      <td>13.863</td>\n",
       "      <td>6</td>\n",
       "      <td>39.000</td>\n",
       "      <td>2.000</td>\n",
       "      <td>1</td>\n",
       "      <td>0</td>\n",
       "      <td>0</td>\n",
       "      <td>1</td>\n",
       "      <td>0</td>\n",
       "      <td>0</td>\n",
       "      <td>0</td>\n",
       "      <td>0</td>\n",
       "      <td>0</td>\n",
       "    </tr>\n",
       "  </tbody>\n",
       "</table>\n",
       "<p>20 rows × 13 columns</p>\n",
       "</div>"
      ],
      "text/plain": [
       "    Price  Bedroom     Area  Bathroom  isFurnished_unfurnished  \\\n",
       "2  13.498        1  547.000     1.000                        1   \n",
       "3  13.910        6  547.000     2.000                        1   \n",
       "4  13.357        2 1305.000     2.000                        1   \n",
       "5  13.382        1  771.000     1.000                        1   \n",
       "6  13.910        2   11.000     2.000                        1   \n",
       "..    ...      ...      ...       ...                      ...   \n",
       "32 13.815        3    1.000     2.000                        1   \n",
       "34 13.092        2  895.000     1.000                        1   \n",
       "35 13.385        1  533.000     1.000                        1   \n",
       "37 14.122        4 1960.000     4.000                        1   \n",
       "38 13.863        6   39.000     2.000                        1   \n",
       "\n",
       "    House Type_condo  House Type_duplex  House Type_house  House Type_others  \\\n",
       "2                  0                  0                 0                  0   \n",
       "3                  0                  0                 0                  0   \n",
       "4                  1                  0                 0                  0   \n",
       "5                  1                  0                 0                  0   \n",
       "6                  1                  0                 0                  0   \n",
       "..               ...                ...               ...                ...   \n",
       "32                 0                  0                 0                  1   \n",
       "34                 0                  0                 0                  0   \n",
       "35                 0                  0                 0                  0   \n",
       "37                 0                  1                 0                  0   \n",
       "38                 0                  0                 1                  0   \n",
       "\n",
       "    House Type_townhouse  Parking Type_detached garage  \\\n",
       "2                      0                             0   \n",
       "3                      0                             0   \n",
       "4                      0                             0   \n",
       "5                      0                             0   \n",
       "6                      0                             0   \n",
       "..                   ...                           ...   \n",
       "32                     0                             0   \n",
       "34                     0                             0   \n",
       "35                     0                             0   \n",
       "37                     0                             1   \n",
       "38                     0                             0   \n",
       "\n",
       "    Parking Type_no parking  Parking Type_street parking  \n",
       "2                         0                            0  \n",
       "3                         0                            0  \n",
       "4                         0                            0  \n",
       "5                         0                            0  \n",
       "6                         0                            0  \n",
       "..                      ...                          ...  \n",
       "32                        0                            0  \n",
       "34                        0                            0  \n",
       "35                        0                            0  \n",
       "37                        0                            0  \n",
       "38                        0                            0  \n",
       "\n",
       "[20 rows x 13 columns]"
      ]
     },
     "execution_count": 121,
     "metadata": {},
     "output_type": "execute_result"
    }
   ],
   "source": [
    "final_df.head(20)"
   ]
  },
  {
   "cell_type": "markdown",
   "metadata": {},
   "source": [
    "### Linear Regression"
   ]
  },
  {
   "cell_type": "code",
   "execution_count": 122,
   "metadata": {},
   "outputs": [],
   "source": [
    "X = final_df.iloc[:, 1:]\n",
    "y = final_df.iloc[:, 0]"
   ]
  },
  {
   "cell_type": "code",
   "execution_count": 123,
   "metadata": {},
   "outputs": [],
   "source": [
    "from sklearn.model_selection import train_test_split\n",
    "X_train, X_test, y_train, y_test = train_test_split(X, y, test_size=0.3, random_state=101)"
   ]
  },
  {
   "cell_type": "code",
   "execution_count": 124,
   "metadata": {},
   "outputs": [],
   "source": [
    "from sklearn import metrics\n",
    "from sklearn.model_selection import cross_val_score\n",
    "\n",
    "def cross_val(model):\n",
    "    pred = cross_val_score(model, X, y, cv=10)\n",
    "    return pred.mean()\n",
    "\n",
    "def print_evaluate(true, predicted):  \n",
    "    mae = metrics.mean_absolute_error(true, predicted)\n",
    "    mse = metrics.mean_squared_error(true, predicted)\n",
    "    rmse = np.sqrt(metrics.mean_squared_error(true, predicted))\n",
    "    r2_square = metrics.r2_score(true, predicted)\n",
    "    print('MAE:', mae)\n",
    "    print('MSE:', mse)\n",
    "    print('RMSE:', rmse)\n",
    "    print('R2 Square', r2_square)\n",
    "    \n",
    "def evaluate(true, predicted):\n",
    "    mae = metrics.mean_absolute_error(true, predicted)\n",
    "    mse = metrics.mean_squared_error(true, predicted)\n",
    "    rmse = np.sqrt(metrics.mean_squared_error(true, predicted))\n",
    "    r2_square = metrics.r2_score(true, predicted)\n",
    "    return mae, mse, rmse, r2_square"
   ]
  },
  {
   "cell_type": "code",
   "execution_count": 125,
   "metadata": {},
   "outputs": [
    {
     "data": {
      "text/plain": [
       "LinearRegression(copy_X=True, fit_intercept=True, n_jobs=None, normalize=True)"
      ]
     },
     "execution_count": 125,
     "metadata": {},
     "output_type": "execute_result"
    }
   ],
   "source": [
    "from sklearn.linear_model import LinearRegression\n",
    "\n",
    "lin_reg = LinearRegression(normalize=True)\n",
    "lin_reg.fit(X,y)"
   ]
  },
  {
   "cell_type": "code",
   "execution_count": 126,
   "metadata": {},
   "outputs": [
    {
     "name": "stdout",
     "output_type": "stream",
     "text": [
      "12.866704232616504\n"
     ]
    }
   ],
   "source": [
    "print(lin_reg.intercept_)"
   ]
  },
  {
   "cell_type": "code",
   "execution_count": 127,
   "metadata": {},
   "outputs": [
    {
     "data": {
      "text/html": [
       "<div>\n",
       "<style scoped>\n",
       "    .dataframe tbody tr th:only-of-type {\n",
       "        vertical-align: middle;\n",
       "    }\n",
       "\n",
       "    .dataframe tbody tr th {\n",
       "        vertical-align: top;\n",
       "    }\n",
       "\n",
       "    .dataframe thead th {\n",
       "        text-align: right;\n",
       "    }\n",
       "</style>\n",
       "<table border=\"1\" class=\"dataframe\">\n",
       "  <thead>\n",
       "    <tr style=\"text-align: right;\">\n",
       "      <th></th>\n",
       "      <th>Coefficient</th>\n",
       "    </tr>\n",
       "  </thead>\n",
       "  <tbody>\n",
       "    <tr>\n",
       "      <th>Bedroom</th>\n",
       "      <td>0.066</td>\n",
       "    </tr>\n",
       "    <tr>\n",
       "      <th>Area</th>\n",
       "      <td>0.000</td>\n",
       "    </tr>\n",
       "    <tr>\n",
       "      <th>Bathroom</th>\n",
       "      <td>0.137</td>\n",
       "    </tr>\n",
       "    <tr>\n",
       "      <th>isFurnished_unfurnished</th>\n",
       "      <td>0.115</td>\n",
       "    </tr>\n",
       "    <tr>\n",
       "      <th>House Type_condo</th>\n",
       "      <td>-0.075</td>\n",
       "    </tr>\n",
       "    <tr>\n",
       "      <th>...</th>\n",
       "      <td>...</td>\n",
       "    </tr>\n",
       "    <tr>\n",
       "      <th>House Type_others</th>\n",
       "      <td>-0.132</td>\n",
       "    </tr>\n",
       "    <tr>\n",
       "      <th>House Type_townhouse</th>\n",
       "      <td>-0.104</td>\n",
       "    </tr>\n",
       "    <tr>\n",
       "      <th>Parking Type_detached garage</th>\n",
       "      <td>0.028</td>\n",
       "    </tr>\n",
       "    <tr>\n",
       "      <th>Parking Type_no parking</th>\n",
       "      <td>-0.042</td>\n",
       "    </tr>\n",
       "    <tr>\n",
       "      <th>Parking Type_street parking</th>\n",
       "      <td>-0.130</td>\n",
       "    </tr>\n",
       "  </tbody>\n",
       "</table>\n",
       "<p>12 rows × 1 columns</p>\n",
       "</div>"
      ],
      "text/plain": [
       "                              Coefficient\n",
       "Bedroom                             0.066\n",
       "Area                                0.000\n",
       "Bathroom                            0.137\n",
       "isFurnished_unfurnished             0.115\n",
       "House Type_condo                   -0.075\n",
       "...                                   ...\n",
       "House Type_others                  -0.132\n",
       "House Type_townhouse               -0.104\n",
       "Parking Type_detached garage        0.028\n",
       "Parking Type_no parking            -0.042\n",
       "Parking Type_street parking        -0.130\n",
       "\n",
       "[12 rows x 1 columns]"
      ]
     },
     "execution_count": 127,
     "metadata": {},
     "output_type": "execute_result"
    }
   ],
   "source": [
    "coeff_df = pd.DataFrame(lin_reg.coef_, X.columns, columns=['Coefficient'])\n",
    "coeff_df"
   ]
  },
  {
   "cell_type": "code",
   "execution_count": 128,
   "metadata": {},
   "outputs": [],
   "source": [
    "pred = lin_reg.predict(X_test)"
   ]
  },
  {
   "cell_type": "code",
   "execution_count": 129,
   "metadata": {},
   "outputs": [
    {
     "data": {
      "text/plain": [
       "<matplotlib.collections.PathCollection at 0x2d18997e248>"
      ]
     },
     "execution_count": 129,
     "metadata": {},
     "output_type": "execute_result"
    },
    {
     "data": {
      "image/png": "[encoded data removed]",
      "text/plain": [
       "<Figure size 432x288 with 1 Axes>"
      ]
     },
     "metadata": {
      "needs_background": "light"
     },
     "output_type": "display_data"
    }
   ],
   "source": [
    "plt.scatter(y_test, pred)"
   ]
  },
  {
   "cell_type": "code",
   "execution_count": 130,
   "metadata": {},
   "outputs": [
    {
     "data": {
      "image/png": "[encoded data removed]",
      "text/plain": [
       "<Figure size 432x288 with 1 Axes>"
      ]
     },
     "metadata": {
      "needs_background": "light"
     },
     "output_type": "display_data"
    }
   ],
   "source": [
    "sns.distplot((y_test - pred), bins=50);"
   ]
  },
  {
   "cell_type": "code",
   "execution_count": 131,
   "metadata": {},
   "outputs": [
    {
     "name": "stdout",
     "output_type": "stream",
     "text": [
      "MAE: 0.24806112975033562\n",
      "MSE: 0.09521600458030872\n",
      "RMSE: 0.308570906892255\n",
      "R2 Square 0.382905733500042\n"
     ]
    }
   ],
   "source": [
    "\n",
    "\n",
    "print_evaluate(y_test, lin_reg.predict(X_test))\n",
    "\n"
   ]
  },
  {
   "cell_type": "code",
   "execution_count": 132,
   "metadata": {},
   "outputs": [
    {
     "data": {
      "text/html": [
       "<div>\n",
       "<style scoped>\n",
       "    .dataframe tbody tr th:only-of-type {\n",
       "        vertical-align: middle;\n",
       "    }\n",
       "\n",
       "    .dataframe tbody tr th {\n",
       "        vertical-align: top;\n",
       "    }\n",
       "\n",
       "    .dataframe thead th {\n",
       "        text-align: right;\n",
       "    }\n",
       "</style>\n",
       "<table border=\"1\" class=\"dataframe\">\n",
       "  <thead>\n",
       "    <tr style=\"text-align: right;\">\n",
       "      <th></th>\n",
       "      <th>Model</th>\n",
       "      <th>MAE</th>\n",
       "      <th>MSE</th>\n",
       "      <th>RMSE</th>\n",
       "      <th>R2 Square</th>\n",
       "      <th>Cross Validation</th>\n",
       "    </tr>\n",
       "  </thead>\n",
       "  <tbody>\n",
       "    <tr>\n",
       "      <th>0</th>\n",
       "      <td>Linear Regression</td>\n",
       "      <td>0.248</td>\n",
       "      <td>0.095</td>\n",
       "      <td>0.309</td>\n",
       "      <td>0.383</td>\n",
       "      <td>0.319</td>\n",
       "    </tr>\n",
       "  </tbody>\n",
       "</table>\n",
       "</div>"
      ],
      "text/plain": [
       "               Model   MAE   MSE  RMSE  R2 Square  Cross Validation\n",
       "0  Linear Regression 0.248 0.095 0.309      0.383             0.319"
      ]
     },
     "execution_count": 132,
     "metadata": {},
     "output_type": "execute_result"
    }
   ],
   "source": [
    "results_df = pd.DataFrame(data=[[\"Linear Regression\", *evaluate(y_test, pred) , cross_val(LinearRegression())]], \n",
    "                          columns=['Model', 'MAE', 'MSE', 'RMSE', 'R2 Square', \"Cross Validation\"])\n",
    "results_df"
   ]
  },
  {
   "cell_type": "code",
   "execution_count": 133,
   "metadata": {},
   "outputs": [],
   "source": [
    "# # open a file, where you ant to store the data\n",
    "# file = open('lin_reg2.pkl', 'wb')\n",
    "\n",
    "# # dump information to that file\n",
    "# pickle.dump(lin_reg, file)\n",
    "with open('lin_reg5.pkl','wb') as f:\n",
    "    pickle.dump(lin_reg,f)"
   ]
  },
  {
   "cell_type": "code",
   "execution_count": 134,
   "metadata": {},
   "outputs": [
    {
     "name": "stdout",
     "output_type": "stream",
     "text": [
      "seaborn==0.9.0\n",
      "scikit-learn==0.21.3\n",
      "pandas==1.0.4\n",
      "numpy==1.16.5\n",
      "matplotlib==3.1.1\n"
     ]
    }
   ],
   "source": [
    "import pkg_resources\n",
    "import types\n",
    "def get_imports():\n",
    "    for name, val in globals().items():\n",
    "        if isinstance(val, types.ModuleType):\n",
    "            # Split ensures you get root package, \n",
    "            # not just imported function\n",
    "            name = val.__name__.split(\".\")[0]\n",
    "\n",
    "        elif isinstance(val, type):\n",
    "            name = val.__module__.split(\".\")[0]\n",
    "\n",
    "        # Some packages are weird and have different\n",
    "        # imported names vs. system/pip names. Unfortunately,\n",
    "        # there is no systematic way to get pip names from\n",
    "        # a package's imported name. You'll have to add\n",
    "        # exceptions to this list manually!\n",
    "        poorly_named_packages = {\n",
    "            \"PIL\": \"Pillow\",\n",
    "            \"sklearn\": \"scikit-learn\"\n",
    "        }\n",
    "        if name in poorly_named_packages.keys():\n",
    "            name = poorly_named_packages[name]\n",
    "\n",
    "        yield name\n",
    "imports = list(set(get_imports()))\n",
    "\n",
    "# The only way I found to get the version of the root package\n",
    "# from only the name of the package is to cross-check the names \n",
    "# of installed packages vs. imported packages\n",
    "requirements = []\n",
    "for m in pkg_resources.working_set:\n",
    "    if m.project_name in imports and m.project_name!=\"pip\":\n",
    "        requirements.append((m.project_name, m.version))\n",
    "\n",
    "for r in requirements:\n",
    "    print(\"{}=={}\".format(*r))        "
   ]
  },
  {
   "cell_type": "code",
   "execution_count": 135,
   "metadata": {},
   "outputs": [
    {
     "data": {
      "text/plain": [
       "array(['apartment', 'condo', 'townhouse', 'house', 'others', 'duplex'],\n",
       "      dtype=object)"
      ]
     },
     "execution_count": 135,
     "metadata": {},
     "output_type": "execute_result"
    }
   ],
   "source": [
    "house_df[\"House Type\"].unique()"
   ]
  },
  {
   "cell_type": "code",
   "execution_count": 136,
   "metadata": {},
   "outputs": [
    {
     "data": {
      "text/plain": [
       "array(['attached garage', 'detached garage', 'no parking',\n",
       "       'street parking'], dtype=object)"
      ]
     },
     "execution_count": 136,
     "metadata": {},
     "output_type": "execute_result"
    }
   ],
   "source": [
    "house_df[\"Parking Type\"].unique()"
   ]
  },
  {
   "cell_type": "code",
   "execution_count": 137,
   "metadata": {},
   "outputs": [
    {
     "data": {
      "text/plain": [
       "array([1, 6, 2, 3, 4, 5, 0], dtype=int64)"
      ]
     },
     "execution_count": 137,
     "metadata": {},
     "output_type": "execute_result"
    }
   ],
   "source": [
    "house_df[\"Bedroom\"].unique()"
   ]
  },
  {
   "cell_type": "code",
   "execution_count": 138,
   "metadata": {},
   "outputs": [
    {
     "name": "stdout",
     "output_type": "stream",
     "text": [
      "<class 'pandas.core.frame.DataFrame'>\n",
      "Int64Index: 1410 entries, 2 to 2787\n",
      "Data columns (total 7 columns):\n",
      " #   Column        Non-Null Count  Dtype  \n",
      "---  ------        --------------  -----  \n",
      " 0   Price         1410 non-null   float64\n",
      " 1   Bedroom       1410 non-null   int64  \n",
      " 2   Area          1410 non-null   float64\n",
      " 3   isFurnished   1410 non-null   object \n",
      " 4   House Type    1410 non-null   object \n",
      " 5   Parking Type  1410 non-null   object \n",
      " 6   Bathroom      1410 non-null   float64\n",
      "dtypes: float64(3), int64(1), object(3)\n",
      "memory usage: 88.1+ KB\n"
     ]
    }
   ],
   "source": [
    "house_df.info()"
   ]
  },
  {
   "cell_type": "code",
   "execution_count": 145,
   "metadata": {},
   "outputs": [],
   "source": [
    "# x=[bedroom,area,bathroom, isFurnished, house_Type_condo, house_Type_duplex, house_Type_house, house_Type_others,\n",
    "#           house_Type_townhouse, parking_type_detached, parking_type_no, parking_type_street]\n",
    "x=[2,1232,2, 1, 0, 0, 0, 0,\n",
    "          1, 0, 0, 0]"
   ]
  },
  {
   "cell_type": "code",
   "execution_count": 146,
   "metadata": {},
   "outputs": [],
   "source": [
    "prediction=lin_reg.predict([x])"
   ]
  },
  {
   "cell_type": "code",
   "execution_count": 147,
   "metadata": {},
   "outputs": [
    {
     "data": {
      "text/plain": [
       "array([13.28971919])"
      ]
     },
     "execution_count": 147,
     "metadata": {},
     "output_type": "execute_result"
    }
   ],
   "source": [
    "prediction"
   ]
  },
  {
   "cell_type": "code",
   "execution_count": 148,
   "metadata": {},
   "outputs": [
    {
     "data": {
      "text/plain": [
       "591087.41"
      ]
     },
     "execution_count": 148,
     "metadata": {},
     "output_type": "execute_result"
    }
   ],
   "source": [
    "price = np.exp(prediction)\n",
    "price=round(price[0],2)\n",
    "price"
   ]
  },
  {
   "cell_type": "code",
   "execution_count": null,
   "metadata": {},
   "outputs": [],
   "source": []
  }
 ],
 "metadata": {
  "kernelspec": {
   "display_name": "Python 3",
   "language": "python",
   "name": "python3"
  },
  "language_info": {
   "codemirror_mode": {
    "name": "ipython",
    "version": 3
   },
   "file_extension": ".py",
   "mimetype": "text/x-python",
   "name": "python",
   "nbconvert_exporter": "python",
   "pygments_lexer": "ipython3",
   "version": "3.7.4"
  }
 },
 "nbformat": 4,
 "nbformat_minor": 2
}
